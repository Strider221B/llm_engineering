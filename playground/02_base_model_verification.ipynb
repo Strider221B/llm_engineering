{
 "cells": [
  {
   "cell_type": "code",
   "execution_count": 1,
   "id": "c336f859-fcb8-41bb-b12b-ab53131b0e99",
   "metadata": {
    "execution": {
     "iopub.execute_input": "2025-02-01T07:39:19.451772Z",
     "iopub.status.busy": "2025-02-01T07:39:19.448965Z",
     "iopub.status.idle": "2025-02-01T07:39:25.329780Z",
     "shell.execute_reply": "2025-02-01T07:39:25.328137Z",
     "shell.execute_reply.started": "2025-02-01T07:39:19.451634Z"
    }
   },
   "outputs": [],
   "source": [
    "import os\n",
    "import re\n",
    "import pickle\n",
    "from dotenv import load_dotenv\n",
    "from tqdm import tqdm\n",
    "from huggingface_hub import login\n",
    "import torch\n",
    "import transformers\n",
    "from transformers import AutoModelForCausalLM, AutoTokenizer, BitsAndBytesConfig, TrainingArguments, set_seed\n",
    "from peft import LoraConfig, PeftModel\n",
    "from datasets import load_dataset, Dataset, DatasetDict\n",
    "from datetime import datetime\n",
    "from tester import Tester"
   ]
  },
  {
   "cell_type": "code",
   "execution_count": 2,
   "id": "eefe65e6-c090-433b-97fd-7826947d1558",
   "metadata": {
    "execution": {
     "iopub.execute_input": "2025-02-01T07:39:25.331189Z",
     "iopub.status.busy": "2025-02-01T07:39:25.330744Z",
     "iopub.status.idle": "2025-02-01T07:39:25.336738Z",
     "shell.execute_reply": "2025-02-01T07:39:25.335302Z",
     "shell.execute_reply.started": "2025-02-01T07:39:25.331163Z"
    }
   },
   "outputs": [],
   "source": [
    "BASE_MODEL = \"meta-llama/Llama-3.2-1B\"\n",
    "MAX_SEQUENCE_LENGTH = 182\n",
    "QUANT_4_BIT = True"
   ]
  },
  {
   "cell_type": "code",
   "execution_count": 3,
   "id": "19f83637-b219-4036-8b7b-d79521d1eb6b",
   "metadata": {
    "execution": {
     "iopub.execute_input": "2025-02-01T07:39:25.338287Z",
     "iopub.status.busy": "2025-02-01T07:39:25.337882Z",
     "iopub.status.idle": "2025-02-01T07:39:25.353273Z",
     "shell.execute_reply": "2025-02-01T07:39:25.351956Z",
     "shell.execute_reply.started": "2025-02-01T07:39:25.338253Z"
    }
   },
   "outputs": [],
   "source": [
    "load_dotenv()\n",
    "os.environ['HF_TOKEN'] = os.getenv('HF_TOKEN')"
   ]
  },
  {
   "cell_type": "code",
   "execution_count": 4,
   "id": "45786914-6490-43a1-8208-f2895d70b79a",
   "metadata": {
    "execution": {
     "iopub.execute_input": "2025-02-01T07:39:25.355164Z",
     "iopub.status.busy": "2025-02-01T07:39:25.354744Z",
     "iopub.status.idle": "2025-02-01T07:39:25.713905Z",
     "shell.execute_reply": "2025-02-01T07:39:25.709046Z",
     "shell.execute_reply.started": "2025-02-01T07:39:25.355133Z"
    }
   },
   "outputs": [
    {
     "name": "stderr",
     "output_type": "stream",
     "text": [
      "Token has not been saved to git credential helper.\n",
      "Note: Environment variable`HF_TOKEN` is set and is the current active token independently from the token you've just configured.\n"
     ]
    },
    {
     "name": "stdout",
     "output_type": "stream",
     "text": [
      "\u001b[1m\u001b[31mCannot authenticate through git-credential as no helper is defined on your machine.\n",
      "You might have to re-authenticate when pushing to the Hugging Face Hub.\n",
      "Run the following command in your terminal in case you want to set the 'store' credential helper as default.\n",
      "\n",
      "git config --global credential.helper store\n",
      "\n",
      "Read https://git-scm.com/book/en/v2/Git-Tools-Credential-Storage for more details.\u001b[0m\n"
     ]
    }
   ],
   "source": [
    "login(os.environ['HF_TOKEN'], add_to_git_credential=True)"
   ]
  },
  {
   "cell_type": "code",
   "execution_count": 5,
   "id": "37bc82e3-7229-4fd8-9e3b-fd26f1fc25a4",
   "metadata": {
    "execution": {
     "iopub.execute_input": "2025-02-01T07:39:25.721736Z",
     "iopub.status.busy": "2025-02-01T07:39:25.717839Z",
     "iopub.status.idle": "2025-02-01T07:39:25.905359Z",
     "shell.execute_reply": "2025-02-01T07:39:25.903602Z",
     "shell.execute_reply.started": "2025-02-01T07:39:25.721636Z"
    }
   },
   "outputs": [],
   "source": [
    "with open('./../data/app_train_dataset.pkl', 'rb') as f:\n",
    "    train = pickle.load(f)\n",
    "with open('./../data/app_test_dataset.pkl', 'rb') as f:\n",
    "    test = pickle.load(f)"
   ]
  },
  {
   "cell_type": "code",
   "execution_count": 6,
   "id": "2922f382-2439-4683-84ee-86d2ff477b03",
   "metadata": {
    "execution": {
     "iopub.execute_input": "2025-02-01T07:39:25.908980Z",
     "iopub.status.busy": "2025-02-01T07:39:25.908484Z",
     "iopub.status.idle": "2025-02-01T07:39:25.918858Z",
     "shell.execute_reply": "2025-02-01T07:39:25.917401Z",
     "shell.execute_reply.started": "2025-02-01T07:39:25.908948Z"
    }
   },
   "outputs": [],
   "source": [
    "quant_config = BitsAndBytesConfig(load_in_4bit=True,\n",
    "                                  bnb_4bit_use_double_quant=True,\n",
    "                                  bnb_4bit_compute_dtype=torch.bfloat16,\n",
    "                                  bnb_4bit_quant_type=\"nf4\")"
   ]
  },
  {
   "cell_type": "code",
   "execution_count": 7,
   "id": "bc544970-e71f-4c98-a6e2-674d089ead1e",
   "metadata": {
    "execution": {
     "iopub.execute_input": "2025-02-01T07:39:25.920801Z",
     "iopub.status.busy": "2025-02-01T07:39:25.920378Z",
     "iopub.status.idle": "2025-02-01T07:39:32.166751Z",
     "shell.execute_reply": "2025-02-01T07:39:32.163116Z",
     "shell.execute_reply.started": "2025-02-01T07:39:25.920770Z"
    }
   },
   "outputs": [
    {
     "name": "stdout",
     "output_type": "stream",
     "text": [
      "Memory footprint: 1.0 GB\n"
     ]
    }
   ],
   "source": [
    "tokenizer = AutoTokenizer.from_pretrained(BASE_MODEL, trust_remote_code=True)\n",
    "tokenizer.pad_token = tokenizer.eos_token\n",
    "tokenizer.padding_side = 'right'\n",
    "base_model = AutoModelForCausalLM.from_pretrained(BASE_MODEL,\n",
    "                                                  quantization_config=quant_config,\n",
    "                                                  device_map='auto')\n",
    "base_model.generation_config.pad_token_id = tokenizer.pad_token_id\n",
    "print(f\"Memory footprint: {base_model.get_memory_footprint() / 1e9:.1f} GB\")"
   ]
  },
  {
   "cell_type": "code",
   "execution_count": 8,
   "id": "761e7c20-2c98-4f76-9e8f-816928199344",
   "metadata": {
    "execution": {
     "iopub.execute_input": "2025-02-01T07:39:32.173902Z",
     "iopub.status.busy": "2025-02-01T07:39:32.169999Z",
     "iopub.status.idle": "2025-02-01T07:39:32.190994Z",
     "shell.execute_reply": "2025-02-01T07:39:32.187559Z",
     "shell.execute_reply.started": "2025-02-01T07:39:32.173811Z"
    }
   },
   "outputs": [],
   "source": [
    "def extract_price(s):\n",
    "    if \"Price is $\" in s:\n",
    "      contents = s.split(\"Price is $\")[1]\n",
    "      contents = contents.replace(',','').replace('$','')\n",
    "      match = re.search(r\"[-+]?\\d*\\.\\d+|\\d+\", contents)\n",
    "      return float(match.group()) if match else 0\n",
    "    return 0"
   ]
  },
  {
   "cell_type": "code",
   "execution_count": 9,
   "id": "8e990885-b109-433c-9104-1539c520a9ac",
   "metadata": {
    "execution": {
     "iopub.execute_input": "2025-02-01T07:39:32.194714Z",
     "iopub.status.busy": "2025-02-01T07:39:32.193849Z",
     "iopub.status.idle": "2025-02-01T07:39:32.227294Z",
     "shell.execute_reply": "2025-02-01T07:39:32.222811Z",
     "shell.execute_reply.started": "2025-02-01T07:39:32.194645Z"
    }
   },
   "outputs": [
    {
     "data": {
      "text/plain": [
       "999.0"
      ]
     },
     "execution_count": 9,
     "metadata": {},
     "output_type": "execute_result"
    }
   ],
   "source": [
    "extract_price(\"Price is $999 blah blah so cheap\")"
   ]
  },
  {
   "cell_type": "code",
   "execution_count": 10,
   "id": "553aca4c-6249-4ca9-90c9-0d5cc403fc01",
   "metadata": {
    "execution": {
     "iopub.execute_input": "2025-02-01T07:39:32.234755Z",
     "iopub.status.busy": "2025-02-01T07:39:32.231970Z",
     "iopub.status.idle": "2025-02-01T07:39:32.252630Z",
     "shell.execute_reply": "2025-02-01T07:39:32.248778Z",
     "shell.execute_reply.started": "2025-02-01T07:39:32.234668Z"
    }
   },
   "outputs": [],
   "source": [
    "def model_predict(prompt):\n",
    "    set_seed(42)\n",
    "    inputs = tokenizer.encode(prompt, return_tensors=\"pt\").to(\"cuda\")\n",
    "    attention_mask = torch.ones(inputs.shape, device=\"cuda\")\n",
    "    outputs = base_model.generate(inputs, max_new_tokens=4, attention_mask=attention_mask, num_return_sequences=1)\n",
    "    response = tokenizer.decode(outputs[0])\n",
    "    return extract_price(response)"
   ]
  },
  {
   "cell_type": "code",
   "execution_count": 11,
   "id": "6ebf4e32-0b35-41d7-aff6-221b480dc3fb",
   "metadata": {
    "execution": {
     "iopub.execute_input": "2025-02-01T07:39:32.256843Z",
     "iopub.status.busy": "2025-02-01T07:39:32.255830Z",
     "iopub.status.idle": "2025-02-01T07:39:33.814459Z",
     "shell.execute_reply": "2025-02-01T07:39:33.813164Z",
     "shell.execute_reply.started": "2025-02-01T07:39:32.256772Z"
    }
   },
   "outputs": [
    {
     "data": {
      "text/plain": [
       "7.99"
      ]
     },
     "execution_count": 11,
     "metadata": {},
     "output_type": "execute_result"
    }
   ],
   "source": [
    "model_predict(test[0]['text'])"
   ]
  },
  {
   "cell_type": "code",
   "execution_count": 12,
   "id": "cd2d4b35-73a3-43ca-883e-afc63969b41b",
   "metadata": {
    "execution": {
     "iopub.execute_input": "2025-02-01T07:39:33.816805Z",
     "iopub.status.busy": "2025-02-01T07:39:33.815806Z",
     "iopub.status.idle": "2025-02-01T07:43:03.359048Z",
     "shell.execute_reply": "2025-02-01T07:43:03.357497Z",
     "shell.execute_reply.started": "2025-02-01T07:39:33.816772Z"
    }
   },
   "outputs": [
    {
     "name": "stdout",
     "output_type": "stream",
     "text": [
      "\u001b[92m1: Guess: $7.99 Truth: $26.97 Error: $18.98 SLE: 1.29 Item: Discount Parts Direc...\u001b[0m\n",
      "\u001b[92m2: Guess: $19.99 Truth: $36.99 Error: $17.00 SLE: 0.35 Item: BestRec Dryer Vent H...\u001b[0m\n",
      "\u001b[92m3: Guess: $25.99 Truth: $41.33 Error: $15.34 SLE: 0.20 Item: Fuxury 12 Inch Impul...\u001b[0m\n",
      "\u001b[92m4: Guess: $7.99 Truth: $45.02 Error: $37.03 SLE: 2.67 Item: Compatible Dryer Hea...\u001b[0m\n",
      "\u001b[92m5: Guess: $7.99 Truth: $13.97 Error: $5.98 SLE: 0.26 Item: 694089 Dryer Blower ...\u001b[0m\n",
      "\u001b[93m6: Guess: $1.99 Truth: $55.65 Error: $53.66 SLE: 8.65 Item: Compatible with Whir...\u001b[0m\n",
      "\u001b[92m7: Guess: $6.40 Truth: $20.99 Error: $14.59 SLE: 1.19 Item: Replacement Aluminum...\u001b[0m\n",
      "\u001b[92m8: Guess: $19.99 Truth: $30.68 Error: $10.69 SLE: 0.17 Item: Lifetime Appliance P...\u001b[0m\n",
      "\u001b[92m9: Guess: $19.99 Truth: $57.99 Error: $38.00 SLE: 1.07 Item: OEM LG Refrigerator ...\u001b[0m\n",
      "\u001b[92m10: Guess: $7.99 Truth: $8.99 Error: $1.00 SLE: 0.01 Item: Dryer Lint Filter Re...\u001b[0m\n",
      "\u001b[92m11: Guess: $7.99 Truth: $25.95 Error: $17.96 SLE: 1.21 Item: FAMCO Dryer Vent Cov...\u001b[0m\n",
      "\u001b[92m12: Guess: $7.99 Truth: $13.99 Error: $6.00 SLE: 0.26 Item: HIFROM Humidifier Wi...\u001b[0m\n",
      "\u001b[92m13: Guess: $1.99 Truth: $13.27 Error: $11.28 SLE: 2.44 Item: - LG Refrigerator Re...\u001b[0m\n",
      "\u001b[92m14: Guess: $1.76 Truth: $33.69 Error: $31.93 SLE: 6.41 Item: Frigidaire Surface B...\u001b[0m\n",
      "\u001b[92m15: Guess: $7.99 Truth: $9.95 Error: $1.96 SLE: 0.04 Item: High Limit Thermosta...\u001b[0m\n",
      "\u001b[91m16: Guess: $7.04 Truth: $106.48 Error: $99.44 SLE: 6.72 Item: Frigidaire Surface B...\u001b[0m\n",
      "\u001b[92m17: Guess: $7.99 Truth: $21.36 Error: $13.37 SLE: 0.83 Item: EnviroCare Replaceme...\u001b[0m\n",
      "\u001b[91m18: Guess: $19.99 Truth: $119.99 Error: $100.00 SLE: 3.07 Item: MAT Expert Counterto...\u001b[0m\n",
      "\u001b[92m19: Guess: $7.99 Truth: $8.95 Error: $0.96 SLE: 0.01 Item: Magic Chef Magic Ste...\u001b[0m\n",
      "\u001b[92m20: Guess: $7.99 Truth: $29.95 Error: $21.96 SLE: 1.53 Item: HQRP 2-pack Water Fi...\u001b[0m\n",
      "\u001b[92m21: Guess: $7.99 Truth: $11.99 Error: $4.00 SLE: 0.14 Item: 2 Pcs Dryer Drum Gli...\u001b[0m\n",
      "\u001b[92m22: Guess: $7.99 Truth: $44.66 Error: $36.67 SLE: 2.64 Item: OEM Samsung Dryer Li...\u001b[0m\n",
      "\u001b[92m23: Guess: $7.99 Truth: $16.99 Error: $9.00 SLE: 0.48 Item: Reusable K Cups For ...\u001b[0m\n",
      "\u001b[92m24: Guess: $7.99 Truth: $29.95 Error: $21.96 SLE: 1.53 Item: 5-Star Humidifier Fi...\u001b[0m\n",
      "\u001b[92m25: Guess: $7.99 Truth: $15.99 Error: $8.00 SLE: 0.41 Item: getalong HFT600 Humi...\u001b[0m\n",
      "\u001b[92m26: Guess: $7.99 Truth: $11.95 Error: $3.96 SLE: 0.13 Item: Stove Counter Gap Co...\u001b[0m\n",
      "\u001b[92m27: Guess: $7.99 Truth: $28.99 Error: $21.00 SLE: 1.45 Item: Switch OEM Mania New...\u001b[0m\n",
      "\u001b[91m28: Guess: $1.99 Truth: $189.00 Error: $187.01 SLE: 17.24 Item: Broan QS1 Series Und...\u001b[0m\n",
      "\u001b[92m29: Guess: $7.99 Truth: $21.91 Error: $13.92 SLE: 0.88 Item: HQRP 2-Pack Water Fi...\u001b[0m\n",
      "\u001b[91m30: Guess: $25.99 Truth: $249.90 Error: $223.91 SLE: 4.97 Item: Deep Freezer Small 3...\u001b[0m\n",
      "\u001b[92m31: Guess: $1.07 Truth: $20.75 Error: $19.68 SLE: 5.53 Item: General Electric Dry...\u001b[0m\n",
      "\u001b[92m32: Guess: $7.99 Truth: $7.99 Error: $0.00 SLE: 0.00 Item: Anti Vibration Pads ...\u001b[0m\n",
      "\u001b[92m33: Guess: $7.99 Truth: $7.49 Error: $0.50 SLE: 0.00 Item: uxcell Washer Water ...\u001b[0m\n",
      "\u001b[92m34: Guess: $25.99 Truth: $29.99 Error: $4.00 SLE: 0.02 Item: Davivy Electric Hot ...\u001b[0m\n",
      "\u001b[92m35: Guess: $7.99 Truth: $28.99 Error: $21.00 SLE: 1.45 Item: Supplying Demand Gas...\u001b[0m\n",
      "\u001b[91m36: Guess: $1,000.00 Truth: $413.00 Error: $587.00 SLE: 0.78 Item: Awoco 36 Stainless S...\u001b[0m\n",
      "\u001b[92m37: Guess: $1.99 Truth: $22.94 Error: $20.95 SLE: 4.33 Item: Kelvinator 0C3162 IN...\u001b[0m\n",
      "\u001b[92m38: Guess: $1.99 Truth: $7.99 Error: $6.00 SLE: 1.21 Item: YXYBST Refrigerator ...\u001b[0m\n",
      "\u001b[93m39: Guess: $1.00 Truth: $69.09 Error: $68.09 SLE: 12.65 Item: LG Handle Assembly,F...\u001b[0m\n",
      "\u001b[93m40: Guess: $19.99 Truth: $70.99 Error: $51.00 SLE: 1.52 Item: PUREPLUS Replacement...\u001b[0m\n",
      "\u001b[92m41: Guess: $25.99 Truth: $10.99 Error: $15.00 SLE: 0.66 Item: Denali Pure Replacem...\u001b[0m\n",
      "\u001b[92m42: Guess: $7.99 Truth: $9.99 Error: $2.00 SLE: 0.04 Item: 6-Pack Dryer Light B...\u001b[0m\n",
      "\u001b[93m43: Guess: $1.99 Truth: $80.84 Error: $78.85 SLE: 10.95 Item: Whirlpool Part Numbe...\u001b[0m\n",
      "\u001b[92m44: Guess: $19.99 Truth: $23.67 Error: $3.68 SLE: 0.03 Item: Upgraded Heating Ele...\u001b[0m\n",
      "\u001b[92m45: Guess: $7.99 Truth: $21.99 Error: $14.00 SLE: 0.88 Item: Highland Cow Country...\u001b[0m\n",
      "\u001b[93m46: Guess: $7.99 Truth: $79.99 Error: $72.00 SLE: 4.83 Item: Perfect Pod EZ-Cup P...\u001b[0m\n",
      "\u001b[92m47: Guess: $25.99 Truth: $58.99 Error: $33.00 SLE: 0.64 Item: Karinear Portable El...\u001b[0m\n",
      "\u001b[93m48: Guess: $7.99 Truth: $52.99 Error: $45.00 SLE: 3.21 Item: 3-Tier Oven Rack -- ...\u001b[0m\n",
      "\u001b[92m49: Guess: $7.99 Truth: $15.99 Error: $8.00 SLE: 0.41 Item: 2-Pack Dryer Idler P...\u001b[0m\n",
      "\u001b[91m50: Guess: $1.99 Truth: $121.99 Error: $120.00 SLE: 13.81 Item: GE Zoneline PTAC Par...\u001b[0m\n",
      "\u001b[92m51: Guess: $7.99 Truth: $6.95 Error: $1.04 SLE: 0.02 Item: Upgraded Dryer Drum ...\u001b[0m\n",
      "\u001b[93m52: Guess: $1.00 Truth: $55.79 Error: $54.79 SLE: 11.20 Item: TRUE 810807 Narrow B...\u001b[0m\n",
      "\u001b[92m53: Guess: $19.99 Truth: $13.99 Error: $6.00 SLE: 0.11 Item: briidea LED Light Bo...\u001b[0m\n",
      "\u001b[92m54: Guess: $7.99 Truth: $11.99 Error: $4.00 SLE: 0.14 Item: Forchrinse Orange Re...\u001b[0m\n",
      "\u001b[92m55: Guess: $25.99 Truth: $9.22 Error: $16.77 SLE: 0.94 Item: 303395 Dryer High Li...\u001b[0m\n",
      "\u001b[93m56: Guess: $7.99 Truth: $54.03 Error: $46.04 SLE: 3.28 Item: Vogelzang BD-06 Appl...\u001b[0m\n",
      "\u001b[93m57: Guess: $7.99 Truth: $59.99 Error: $52.00 SLE: 3.67 Item: Supplying Demand Ele...\u001b[0m\n",
      "\u001b[92m58: Guess: $1.00 Truth: $33.64 Error: $32.64 SLE: 8.13 Item: Broan Grille with Sp...\u001b[0m\n",
      "\u001b[91m59: Guess: $19.99 Truth: $120.02 Error: $100.03 SLE: 3.07 Item: (OCN) New Refrigerat...\u001b[0m\n",
      "\u001b[92m60: Guess: $19.99 Truth: $20.49 Error: $0.50 SLE: 0.00 Item: Diverter Valve Motor...\u001b[0m\n",
      "\u001b[92m61: Guess: $0.00 Truth: $8.96 Error: $8.96 SLE: 5.28 Item: Melitta Wrap Around ...\u001b[0m\n",
      "\u001b[92m62: Guess: $1.00 Truth: $9.46 Error: $8.46 SLE: 2.74 Item: Suburban 140245 Burn...\u001b[0m\n",
      "\u001b[91m63: Guess: $7.99 Truth: $301.55 Error: $293.56 SLE: 12.36 Item: Traulsen Fan Motor a...\u001b[0m\n",
      "\u001b[91m64: Guess: $1.00 Truth: $94.40 Error: $93.40 SLE: 14.94 Item: Mountain Plumbing 95...\u001b[0m\n",
      "\u001b[92m65: Guess: $7.99 Truth: $43.86 Error: $35.87 SLE: 2.58 Item: GENUINE Speed Queen ...\u001b[0m\n",
      "\u001b[91m66: Guess: $19.99 Truth: $189.99 Error: $170.00 SLE: 4.88 Item: WANAI Compact Refrig...\u001b[0m\n",
      "\u001b[93m67: Guess: $50.00 Truth: $7.99 Error: $42.01 SLE: 3.01 Item: YYJINGYOU 50Pcs Port...\u001b[0m\n",
      "\u001b[93m68: Guess: $7.99 Truth: $84.34 Error: $76.35 SLE: 5.06 Item: Whirlpool Icemaker M...\u001b[0m\n",
      "\u001b[91m69: Guess: $1.99 Truth: $799.99 Error: $798.00 SLE: 31.25 Item: Kucht Under Cabinet ...\u001b[0m\n",
      "\u001b[92m70: Guess: $7.99 Truth: $7.59 Error: $0.40 SLE: 0.00 Item: Replacement Vent Lig...\u001b[0m\n",
      "\u001b[92m71: Guess: $25.99 Truth: $56.00 Error: $30.01 SLE: 0.56 Item: GLOB PRO SOLUTIONS M...\u001b[0m\n",
      "\u001b[92m72: Guess: $7.99 Truth: $28.90 Error: $20.91 SLE: 1.44 Item: Enterpark Motor Pump...\u001b[0m\n",
      "\u001b[92m73: Guess: $7.99 Truth: $9.88 Error: $1.89 SLE: 0.04 Item: Washing Machine Hub ...\u001b[0m\n",
      "\u001b[92m74: Guess: $7.99 Truth: $42.99 Error: $35.00 SLE: 2.52 Item: Flame Sensor Furnace...\u001b[0m\n",
      "\u001b[91m75: Guess: $1,000.00 Truth: $189.98 Error: $810.02 SLE: 2.74 Item: Range Hood 30 Inch, ...\u001b[0m\n",
      "\u001b[92m76: Guess: $7.99 Truth: $22.98 Error: $14.99 SLE: 0.96 Item: SHEAWA Refrigerator ...\u001b[0m\n",
      "\u001b[92m77: Guess: $7.99 Truth: $24.99 Error: $17.00 SLE: 1.13 Item: 2-Pack Replacement f...\u001b[0m\n",
      "\u001b[92m78: Guess: $7.99 Truth: $34.99 Error: $27.00 SLE: 1.92 Item: Winter Magnetic Dish...\u001b[0m\n",
      "\u001b[91m79: Guess: $19.99 Truth: $319.99 Error: $300.00 SLE: 7.44 Item: Countertop Dishwashe...\u001b[0m\n",
      "\u001b[92m80: Guess: $25.99 Truth: $55.99 Error: $30.00 SLE: 0.56 Item: Propane Gas Cooktop ...\u001b[0m\n",
      "\u001b[92m81: Guess: $7.99 Truth: $46.86 Error: $38.87 SLE: 2.80 Item: GE Bake Element For ...\u001b[0m\n",
      "\u001b[91m82: Guess: $19.99 Truth: $299.99 Error: $280.00 SLE: 7.09 Item: Kndko Nugget Ice Mak...\u001b[0m\n",
      "\u001b[92m83: Guess: $1.99 Truth: $25.64 Error: $23.65 SLE: 4.78 Item: Franke Disposal Air ...\u001b[0m\n",
      "\u001b[92m84: Guess: $7.99 Truth: $17.99 Error: $10.00 SLE: 0.56 Item: Wok Ring, 6.3 Inch C...\u001b[0m\n",
      "\u001b[92m85: Guess: $25.99 Truth: $34.75 Error: $8.76 SLE: 0.08 Item: AZH Range Oven Ignit...\u001b[0m\n",
      "\u001b[92m86: Guess: $7.99 Truth: $10.98 Error: $2.99 SLE: 0.08 Item: ZC GEL Anti Vibratio...\u001b[0m\n",
      "\u001b[92m87: Guess: $7.99 Truth: $21.99 Error: $14.00 SLE: 0.88 Item: Egg Cartons 50 Pack,...\u001b[0m\n",
      "\u001b[92m88: Guess: $19.99 Truth: $15.99 Error: $4.00 SLE: 0.04 Item: Replacement for Whir...\u001b[0m\n",
      "\u001b[91m89: Guess: $7.99 Truth: $249.10 Error: $241.11 SLE: 11.06 Item: GE Genuine OEM Ice B...\u001b[0m\n",
      "\u001b[93m90: Guess: $1.99 Truth: $56.87 Error: $54.88 SLE: 8.78 Item: Compatible with GE M...\u001b[0m\n",
      "\u001b[92m91: Guess: $7.99 Truth: $35.00 Error: $27.01 SLE: 1.92 Item: General Electric Dra...\u001b[0m\n",
      "\u001b[92m92: Guess: $19.99 Truth: $35.98 Error: $15.99 SLE: 0.32 Item: Whole Parts Refriger...\u001b[0m\n",
      "\u001b[92m93: Guess: $7.99 Truth: $14.99 Error: $7.00 SLE: 0.33 Item: Cenipar Burner Drip ...\u001b[0m\n",
      "\u001b[91m94: Guess: $1.99 Truth: $329.99 Error: $328.00 SLE: 22.15 Item: COSMO QB90 36 in. Un...\u001b[0m\n",
      "\u001b[92m95: Guess: $7.99 Truth: $6.49 Error: $1.50 SLE: 0.03 Item: Adjuster Positioner ...\u001b[0m\n",
      "\u001b[92m96: Guess: $1.99 Truth: $14.55 Error: $12.56 SLE: 2.72 Item: BrassCraft Stainless...\u001b[0m\n",
      "\u001b[92m97: Guess: $7.99 Truth: $15.99 Error: $8.00 SLE: 0.41 Item: JASGOOD Christmas Re...\u001b[0m\n",
      "\u001b[92m98: Guess: $1.99 Truth: $15.99 Error: $14.00 SLE: 3.02 Item: Refrigerator Evapora...\u001b[0m\n",
      "\u001b[92m99: Guess: $7.99 Truth: $42.99 Error: $35.00 SLE: 2.52 Item: 2 Pack 1043 Humidifi...\u001b[0m\n",
      "\u001b[92m100: Guess: $19.99 Truth: $32.99 Error: $13.00 SLE: 0.23 Item: & Dryer Heating Elem...\u001b[0m\n",
      "\u001b[91m101: Guess: $19.99 Truth: $109.59 Error: $89.60 SLE: 2.76 Item: Sub-Zero Replacement...\u001b[0m\n",
      "\u001b[93m102: Guess: $19.99 Truth: $60.48 Error: $40.49 SLE: 1.15 Item: Swift Green Filters ...\u001b[0m\n",
      "\u001b[92m103: Guess: $7.99 Truth: $22.99 Error: $15.00 SLE: 0.96 Item: Electrolux Condenser...\u001b[0m\n",
      "\u001b[92m104: Guess: $7.99 Truth: $8.99 Error: $1.00 SLE: 0.01 Item: NISPIRA Charcoal Wat...\u001b[0m\n",
      "\u001b[91m105: Guess: $19.99 Truth: $209.99 Error: $190.00 SLE: 5.33 Item: hOmeLabs Mini Fridge...\u001b[0m\n",
      "\u001b[93m106: Guess: $7.99 Truth: $84.28 Error: $76.29 SLE: 5.06 Item: Frigidaire Frigidare...\u001b[0m\n",
      "\u001b[91m107: Guess: $25.99 Truth: $299.99 Error: $274.00 SLE: 5.82 Item: VEVOR Drop in Ice Ch...\u001b[0m\n",
      "\u001b[91m108: Guess: $383.73 Truth: $7.22 Error: $376.51 SLE: 14.79 Item: 383727 WASHER TUB SE...\u001b[0m\n",
      "\u001b[92m109: Guess: $7.99 Truth: $7.97 Error: $0.02 SLE: 0.00 Item: Cosmos 1 Pair Neopre...\u001b[0m\n",
      "\u001b[92m110: Guess: $1.15 Truth: $28.99 Error: $27.84 SLE: 6.95 Item: Supplying Demand Ref...\u001b[0m\n",
      "\u001b[91m111: Guess: $7.99 Truth: $135.98 Error: $127.99 SLE: 7.42 Item: LG Electronics Elect...\u001b[0m\n",
      "\u001b[92m112: Guess: $1.00 Truth: $40.02 Error: $39.02 SLE: 9.13 Item: Imperial 33883 Icv/I...\u001b[0m\n",
      "\u001b[92m113: Guess: $1.99 Truth: $33.99 Error: $32.00 SLE: 6.05 Item: amadao Portable Mini...\u001b[0m\n",
      "\u001b[93m114: Guess: $7.99 Truth: $48.70 Error: $40.71 SLE: 2.92 Item: Upper Refrigerator G...\u001b[0m\n",
      "\u001b[92m115: Guess: $7.99 Truth: $20.99 Error: $13.00 SLE: 0.80 Item: 3-Pack PureAir AF-2 ...\u001b[0m\n",
      "\u001b[91m116: Guess: $1.99 Truth: $899.00 Error: $897.01 SLE: 32.57 Item: Fisher Paykel 24 Dra...\u001b[0m\n",
      "\u001b[92m117: Guess: $7.99 Truth: $12.99 Error: $5.00 SLE: 0.20 Item: Ansoon Washer Water ...\u001b[0m\n",
      "\u001b[92m118: Guess: $7.99 Truth: $27.57 Error: $19.58 SLE: 1.34 Item: UPGRADED Lifetime Ap...\u001b[0m\n",
      "\u001b[92m119: Guess: $1.99 Truth: $7.99 Error: $6.00 SLE: 1.21 Item: Repairwares 3/4 Inch...\u001b[0m\n",
      "\u001b[92m120: Guess: $7.99 Truth: $6.99 Error: $1.00 SLE: 0.01 Item: VOSAREA Timer Knob D...\u001b[0m\n",
      "\u001b[93m121: Guess: $7.99 Truth: $71.48 Error: $63.49 SLE: 4.36 Item: Whirlpool\n",
      "Product De...\u001b[0m\n",
      "\u001b[93m122: Guess: $1.99 Truth: $49.95 Error: $47.96 SLE: 8.04 Item: Cuisinart Ice Cream ...\u001b[0m\n",
      "\u001b[92m123: Guess: $1.99 Truth: $15.39 Error: $13.40 SLE: 2.89 Item: GENUINE Frigidaire W...\u001b[0m\n",
      "\u001b[93m124: Guess: $19.99 Truth: $80.99 Error: $61.00 SLE: 1.86 Item: OEM Refrigerator Doo...\u001b[0m\n",
      "\u001b[92m125: Guess: $7.99 Truth: $20.00 Error: $12.01 SLE: 0.72 Item: Haier HAIER REFRIGER...\u001b[0m\n",
      "\u001b[93m126: Guess: $7.99 Truth: $60.14 Error: $52.15 SLE: 3.68 Item: Filter Express Optip...\u001b[0m\n",
      "\u001b[92m127: Guess: $7.99 Truth: $10.98 Error: $2.99 SLE: 0.08 Item: RoseFlower Outdoor P...\u001b[0m\n",
      "\u001b[92m128: Guess: $7.99 Truth: $29.90 Error: $21.91 SLE: 1.52 Item: Dishwasher Door Latc...\u001b[0m\n",
      "\u001b[92m129: Guess: $25.99 Truth: $10.99 Error: $15.00 SLE: 0.66 Item: Washing Machine Pump...\u001b[0m\n",
      "\u001b[92m130: Guess: $1.99 Truth: $15.99 Error: $14.00 SLE: 3.02 Item: LazyMe Easter Basket...\u001b[0m\n",
      "\u001b[92m131: Guess: $7.99 Truth: $17.99 Error: $10.00 SLE: 0.56 Item: OUGAR8 Refrigerator ...\u001b[0m\n",
      "\u001b[92m132: Guess: $19.99 Truth: $54.95 Error: $34.96 SLE: 0.96 Item: AIRTEVA 19 1/2 x 23 ...\u001b[0m\n",
      "\u001b[92m133: Guess: $7.99 Truth: $39.99 Error: $32.00 SLE: 2.30 Item: Brio 6022A Refrigera...\u001b[0m\n",
      "\u001b[93m134: Guess: $25.99 Truth: $99.14 Error: $73.15 SLE: 1.72 Item: Gp Fits U-Line Refri...\u001b[0m\n",
      "\u001b[92m135: Guess: $25.99 Truth: $29.99 Error: $4.00 SLE: 0.02 Item: laffeya Electric Sto...\u001b[0m\n",
      "\u001b[92m136: Guess: $1.00 Truth: $26.43 Error: $25.43 SLE: 6.86 Item: Whirlpool Wash Impel...\u001b[0m\n",
      "\u001b[92m137: Guess: $25.99 Truth: $19.99 Error: $6.00 SLE: 0.06 Item: Front Load Washer Tu...\u001b[0m\n",
      "\u001b[93m138: Guess: $25.99 Truth: $99.99 Error: $74.00 SLE: 1.74 Item: Supplying Demand Ref...\u001b[0m\n",
      "\u001b[92m139: Guess: $25.99 Truth: $15.99 Error: $10.00 SLE: 0.21 Item: AMI PARTS Universal ...\u001b[0m\n",
      "\u001b[92m140: Guess: $19.99 Truth: $19.90 Error: $0.09 SLE: 0.00 Item: Dryer Lint Filter Co...\u001b[0m\n",
      "\u001b[92m141: Guess: $7.99 Truth: $15.99 Error: $8.00 SLE: 0.41 Item: Mosoan Christmas Ref...\u001b[0m\n",
      "\u001b[92m142: Guess: $7.99 Truth: $30.89 Error: $22.90 SLE: 1.60 Item: Refrigerator Evapora...\u001b[0m\n",
      "\u001b[93m143: Guess: $7.99 Truth: $86.33 Error: $78.34 SLE: 5.17 Item: Frigidaire Range/Sto...\u001b[0m\n",
      "\u001b[93m144: Guess: $7.99 Truth: $49.99 Error: $42.00 SLE: 3.01 Item: Vastarry Portable Co...\u001b[0m\n",
      "\u001b[92m145: Guess: $7.99 Truth: $11.87 Error: $3.88 SLE: 0.13 Item: Thermal Fuse Dryer R...\u001b[0m\n",
      "\u001b[92m146: Guess: $7.99 Truth: $19.98 Error: $11.99 SLE: 0.72 Item: Universal Dishwasher...\u001b[0m\n",
      "\u001b[93m147: Guess: $19.99 Truth: $88.99 Error: $69.00 SLE: 2.12 Item: ASODOMO for KitchenA...\u001b[0m\n",
      "\u001b[92m148: Guess: $7.99 Truth: $6.20 Error: $1.79 SLE: 0.05 Item: Dryer Thermistor Rep...\u001b[0m\n",
      "\u001b[92m149: Guess: $7.99 Truth: $19.99 Error: $12.00 SLE: 0.72 Item: UKNESFROD Humidifier...\u001b[0m\n",
      "\u001b[92m150: Guess: $7.99 Truth: $42.99 Error: $35.00 SLE: 2.52 Item: Cinch Lux Dryer Duct...\u001b[0m\n",
      "\u001b[92m151: Guess: $7.99 Truth: $10.60 Error: $2.61 SLE: 0.06 Item: Refrigerator LED Lig...\u001b[0m\n",
      "\u001b[92m152: Guess: $19.99 Truth: $16.97 Error: $3.02 SLE: 0.02 Item: Canamax Premium Dish...\u001b[0m\n",
      "\u001b[92m153: Guess: $1.99 Truth: $14.57 Error: $12.58 SLE: 2.72 Item: Whirlpool Control Kn...\u001b[0m\n",
      "\u001b[92m154: Guess: $19.99 Truth: $9.57 Error: $10.42 SLE: 0.47 Item: Ultra Durable Washer...\u001b[0m\n",
      "\u001b[91m155: Guess: $1.99 Truth: $242.99 Error: $241.00 SLE: 19.38 Item: Hauslane | Chef Seri...\u001b[0m\n",
      "\u001b[92m156: Guess: $7.99 Truth: $16.15 Error: $8.16 SLE: 0.42 Item: Supco ES682 Washer L...\u001b[0m\n",
      "\u001b[92m157: Guess: $7.99 Truth: $13.99 Error: $6.00 SLE: 0.26 Item: Water Actuator for F...\u001b[0m\n",
      "\u001b[93m158: Guess: $7.99 Truth: $69.51 Error: $61.52 SLE: 4.24 Item: General Electric Dis...\u001b[0m\n",
      "\u001b[92m159: Guess: $1.99 Truth: $19.85 Error: $17.86 SLE: 3.77 Item: Southbend Range Cont...\u001b[0m\n",
      "\u001b[92m160: Guess: $7.99 Truth: $7.99 Error: $0.00 SLE: 0.00 Item: Dryer Thermostat & D...\u001b[0m\n",
      "\u001b[92m161: Guess: $7.99 Truth: $16.99 Error: $9.00 SLE: 0.48 Item: ICEPURE Refrigerator...\u001b[0m\n",
      "\u001b[91m162: Guess: $7.99 Truth: $210.46 Error: $202.47 SLE: 9.97 Item: Frigidaire Evaporato...\u001b[0m\n",
      "\u001b[92m163: Guess: $19.99 Truth: $25.18 Error: $5.19 SLE: 0.05 Item: Stacking Kit KSTK1 W...\u001b[0m\n",
      "\u001b[91m164: Guess: $1.99 Truth: $87.99 Error: $86.00 SLE: 11.51 Item: Clothes Dryer 110V E...\u001b[0m\n",
      "\u001b[92m165: Guess: $7.99 Truth: $3.99 Error: $4.00 SLE: 0.35 Item: New Plastic Spray Bo...\u001b[0m\n",
      "\u001b[91m166: Guess: $7.99 Truth: $168.17 Error: $160.18 SLE: 8.61 Item: 2.7 cubic foot compa...\u001b[0m\n",
      "\u001b[92m167: Guess: $7.99 Truth: $35.21 Error: $27.22 SLE: 1.94 Item: SharkBite 26038 1/2 ...\u001b[0m\n",
      "\u001b[92m168: Guess: $7.99 Truth: $15.99 Error: $8.00 SLE: 0.41 Item: LZJIQNZE Egg Holder ...\u001b[0m\n",
      "\u001b[92m169: Guess: $7.99 Truth: $35.99 Error: $28.00 SLE: 2.00 Item: 4-Pack Replacement f...\u001b[0m\n",
      "\u001b[92m170: Guess: $7.99 Truth: $42.99 Error: $35.00 SLE: 2.52 Item: Integra Boost RH 62%...\u001b[0m\n",
      "\u001b[91m171: Guess: $7.99 Truth: $98.86 Error: $90.87 SLE: 5.80 Item: LG Electronics Refri...\u001b[0m\n",
      "\u001b[92m172: Guess: $7.99 Truth: $7.99 Error: $0.00 SLE: 0.00 Item: Dryer Idler Pulley R...\u001b[0m\n",
      "\u001b[92m173: Guess: $7.99 Truth: $5.99 Error: $2.00 SLE: 0.06 Item: 2 Packs French Press...\u001b[0m\n",
      "\u001b[92m174: Guess: $25.99 Truth: $23.89 Error: $2.10 SLE: 0.01 Item: Artilife Multi-Funct...\u001b[0m\n",
      "\u001b[91m175: Guess: $1.99 Truth: $97.38 Error: $95.39 SLE: 12.20 Item: Whirlpool Motor, Whi...\u001b[0m\n",
      "\u001b[92m176: Guess: $19.99 Truth: $17.79 Error: $2.20 SLE: 0.01 Item: iSpring ICEK3 3/8 Tu...\u001b[0m\n",
      "\u001b[92m177: Guess: $19.99 Truth: $33.99 Error: $14.00 SLE: 0.26 Item: EXCELPURE Replacemen...\u001b[0m\n",
      "\u001b[91m178: Guess: $7.99 Truth: $177.95 Error: $169.96 SLE: 8.95 Item: LG Refrigerator Elec...\u001b[0m\n",
      "\u001b[93m179: Guess: $7.99 Truth: $59.06 Error: $51.07 SLE: 3.61 Item: Whirlpool OEM Range ...\u001b[0m\n",
      "\u001b[92m180: Guess: $7.99 Truth: $16.99 Error: $9.00 SLE: 0.48 Item: Beaquicy TDIDVKZW In...\u001b[0m\n",
      "\u001b[93m181: Guess: $1.99 Truth: $57.44 Error: $55.45 SLE: 8.84 Item: Frigidaire 3 Door Ha...\u001b[0m\n",
      "\u001b[92m182: Guess: $7.99 Truth: $14.99 Error: $7.00 SLE: 0.33 Item: MG Coffee 3 PACK Reu...\u001b[0m\n",
      "\u001b[92m183: Guess: $7.99 Truth: $11.75 Error: $3.76 SLE: 0.12 Item: GE Dishwasher Door L...\u001b[0m\n",
      "\u001b[92m184: Guess: $25.99 Truth: $13.99 Error: $12.00 SLE: 0.35 Item: Mist Water Filter Re...\u001b[0m\n",
      "\u001b[92m185: Guess: $7.99 Truth: $37.45 Error: $29.46 SLE: 2.11 Item: PASSE Black Tile Flo...\u001b[0m\n",
      "\u001b[92m186: Guess: $25.99 Truth: $49.99 Error: $24.00 SLE: 0.40 Item: Repairwares Refriger...\u001b[0m\n",
      "\u001b[93m187: Guess: $7.99 Truth: $71.87 Error: $63.88 SLE: 4.38 Item: GE Refrigerator Door...\u001b[0m\n",
      "\u001b[92m188: Guess: $7.99 Truth: $7.99 Error: $0.00 SLE: 0.00 Item: Stainless Steel Bell...\u001b[0m\n",
      "\u001b[92m189: Guess: $1.99 Truth: $28.34 Error: $26.35 SLE: 5.22 Item: Filter Everything Re...\u001b[0m\n",
      "\u001b[91m190: Guess: $7.99 Truth: $289.99 Error: $282.00 SLE: 12.09 Item: Bonnlo 13 lbs Portab...\u001b[0m\n",
      "\u001b[92m191: Guess: $7.99 Truth: $5.89 Error: $2.10 SLE: 0.07 Item: PANSHA Door Knob Cov...\u001b[0m\n",
      "\u001b[92m192: Guess: $25.99 Truth: $7.26 Error: $18.73 SLE: 1.40 Item: TraveT Digital Camer...\u001b[0m\n",
      "\u001b[92m193: Guess: $7.99 Truth: $14.99 Error: $7.00 SLE: 0.33 Item: ZAWAGIIK Refrigerato...\u001b[0m\n",
      "\u001b[92m194: Guess: $19.99 Truth: $21.99 Error: $2.00 SLE: 0.01 Item: 2-Pack Replacement f...\u001b[0m\n",
      "\u001b[91m195: Guess: $7.99 Truth: $125.14 Error: $117.15 SLE: 6.98 Item: Global Solutions Glo...\u001b[0m\n",
      "\u001b[92m196: Guess: $7.99 Truth: $29.99 Error: $22.00 SLE: 1.53 Item: Refrigmatic Electron...\u001b[0m\n",
      "\u001b[92m197: Guess: $1.99 Truth: $7.98 Error: $5.99 SLE: 1.21 Item: 341241 Dryer Drum Be...\u001b[0m\n",
      "\u001b[93m198: Guess: $1.00 Truth: $59.95 Error: $58.95 SLE: 11.68 Item: Spark Module (2+1) 1...\u001b[0m\n",
      "\u001b[92m199: Guess: $7.99 Truth: $9.47 Error: $1.48 SLE: 0.02 Item: Washer Door Lid Swit...\u001b[0m\n",
      "\u001b[91m200: Guess: $25.99 Truth: $129.99 Error: $104.00 SLE: 2.50 Item: Compact Refrigerator...\u001b[0m\n",
      "\u001b[92m201: Guess: $25.99 Truth: $22.99 Error: $3.00 SLE: 0.01 Item: Washer Door Latch Sw...\u001b[0m\n",
      "\u001b[92m202: Guess: $1.99 Truth: $37.42 Error: $35.43 SLE: 6.52 Item: Frigidaire Frigidare...\u001b[0m\n",
      "\u001b[92m203: Guess: $1.60 Truth: $35.50 Error: $33.90 SLE: 6.98 Item: TRUE 810854 Black Ga...\u001b[0m\n",
      "\u001b[92m204: Guess: $7.99 Truth: $39.99 Error: $32.00 SLE: 2.30 Item: Refrigerator Control...\u001b[0m\n",
      "\u001b[92m205: Guess: $7.99 Truth: $29.99 Error: $22.00 SLE: 1.53 Item: ICEPURE PLUS NSF53 C...\u001b[0m\n",
      "\u001b[92m206: Guess: $7.99 Truth: $28.99 Error: $21.00 SLE: 1.45 Item: Supplying Demand Clo...\u001b[0m\n",
      "\u001b[91m207: Guess: $1.99 Truth: $380.12 Error: $378.13 SLE: 23.50 Item: Scotsman Pump Water\n",
      "...\u001b[0m\n",
      "\u001b[92m208: Guess: $1.99 Truth: $20.00 Error: $18.01 SLE: 3.80 Item: Whirlpool 482338 Adh...\u001b[0m\n",
      "\u001b[92m209: Guess: $7.99 Truth: $16.99 Error: $9.00 SLE: 0.48 Item: 2-Pack Refrigerator ...\u001b[0m\n",
      "\u001b[92m210: Guess: $7.99 Truth: $15.50 Error: $7.51 SLE: 0.37 Item: Whole Parts Applianc...\u001b[0m\n",
      "\u001b[92m211: Guess: $7.99 Truth: $9.99 Error: $2.00 SLE: 0.04 Item: Dryer Lint Filter Re...\u001b[0m\n",
      "\u001b[92m212: Guess: $7.99 Truth: $10.99 Error: $3.00 SLE: 0.08 Item: Supplying Demand Clo...\u001b[0m\n",
      "\u001b[92m213: Guess: $7.99 Truth: $6.68 Error: $1.31 SLE: 0.02 Item: Refrigerator Door Li...\u001b[0m\n",
      "\u001b[92m214: Guess: $25.99 Truth: $7.91 Error: $18.08 SLE: 1.23 Item: HQRP Filter Kit comp...\u001b[0m\n",
      "\u001b[92m215: Guess: $7.99 Truth: $33.20 Error: $25.21 SLE: 1.79 Item: GENUINE Alliance Lau...\u001b[0m\n",
      "\u001b[92m216: Guess: $7.99 Truth: $5.99 Error: $2.00 SLE: 0.06 Item: Replacement Light Bu...\u001b[0m\n",
      "\u001b[93m217: Guess: $7.99 Truth: $53.99 Error: $46.00 SLE: 3.28 Item: Refrigerator Control...\u001b[0m\n",
      "\u001b[91m218: Guess: $25.99 Truth: $149.95 Error: $123.96 SLE: 2.96 Item: NEW Control Board Mo...\u001b[0m\n",
      "\u001b[92m219: Guess: $7.99 Truth: $28.59 Error: $20.60 SLE: 1.42 Item: GE Refrigerator Door...\u001b[0m\n",
      "\u001b[92m220: Guess: $25.99 Truth: $17.25 Error: $8.74 SLE: 0.15 Item: Dishwasher Upper Dis...\u001b[0m\n",
      "\u001b[92m221: Guess: $19.99 Truth: $39.99 Error: $20.00 SLE: 0.45 Item: AMI PARTS Universal ...\u001b[0m\n",
      "\u001b[92m222: Guess: $25.99 Truth: $34.94 Error: $8.95 SLE: 0.08 Item: Evaporator Fan Motor...\u001b[0m\n",
      "\u001b[92m223: Guess: $25.99 Truth: $7.99 Error: $18.00 SLE: 1.21 Item: 312959 Dryer Belt Re...\u001b[0m\n",
      "\u001b[91m224: Guess: $1.99 Truth: $399.00 Error: $397.01 SLE: 23.97 Item: EKON 900CFM Range Ho...\u001b[0m\n",
      "\u001b[93m225: Guess: $72.00 Truth: $16.48 Error: $55.52 SLE: 2.04 Item: EvertechPRO 57000 6f...\u001b[0m\n",
      "\u001b[93m226: Guess: $25.99 Truth: $95.00 Error: $69.01 SLE: 1.61 Item: Compatible Ice Maker...\u001b[0m\n",
      "\u001b[92m227: Guess: $7.99 Truth: $25.65 Error: $17.66 SLE: 1.18 Item: Edgewater Parts Evap...\u001b[0m\n",
      "\u001b[92m228: Guess: $7.99 Truth: $9.91 Error: $1.92 SLE: 0.04 Item: HQRP Water Filter Co...\u001b[0m\n",
      "\u001b[91m229: Guess: $1.00 Truth: $164.68 Error: $163.68 SLE: 19.51 Item: Apw Wyott Burner Cha...\u001b[0m\n",
      "\u001b[92m230: Guess: $7.99 Truth: $20.99 Error: $13.00 SLE: 0.80 Item: Refrigerator Door Sh...\u001b[0m\n",
      "\u001b[93m231: Guess: $7.99 Truth: $87.15 Error: $79.16 SLE: 5.21 Item: GE Appliances Genuin...\u001b[0m\n",
      "\u001b[92m232: Guess: $7.99 Truth: $15.47 Error: $7.48 SLE: 0.37 Item: Cenipar Universal Di...\u001b[0m\n",
      "\u001b[93m233: Guess: $7.99 Truth: $49.99 Error: $42.00 SLE: 3.01 Item: XNGJEMVWXO Dishwashe...\u001b[0m\n",
      "\u001b[91m234: Guess: $25.00 Truth: $324.99 Error: $299.99 SLE: 6.39 Item: Captive Aire Make Up...\u001b[0m\n",
      "\u001b[92m235: Guess: $12.99 Truth: $40.84 Error: $27.85 SLE: 1.20 Item: CH3301 Broil Element...\u001b[0m\n",
      "\u001b[92m236: Guess: $7.99 Truth: $16.99 Error: $9.00 SLE: 0.48 Item: SILKYNICE Refrigerat...\u001b[0m\n",
      "\u001b[92m237: Guess: $7.99 Truth: $42.98 Error: $34.99 SLE: 2.52 Item: Whole Parts Washer W...\u001b[0m\n",
      "\u001b[92m238: Guess: $7.99 Truth: $22.99 Error: $15.00 SLE: 0.96 Item: Refrigerator Door Bi...\u001b[0m\n",
      "\u001b[92m239: Guess: $7.99 Truth: $15.97 Error: $7.98 SLE: 0.40 Item: Nut Milk Bags for St...\u001b[0m\n",
      "\u001b[92m240: Guess: $7.99 Truth: $12.98 Error: $4.99 SLE: 0.19 Item: spartshome iRomehony...\u001b[0m\n",
      "\u001b[92m241: Guess: $7.99 Truth: $24.27 Error: $16.28 SLE: 1.07 Item: General Electric Ran...\u001b[0m\n",
      "\u001b[92m242: Guess: $7.99 Truth: $15.99 Error: $8.00 SLE: 0.41 Item: Evaporator Fan Motor...\u001b[0m\n",
      "\u001b[92m243: Guess: $19.99 Truth: $19.14 Error: $0.85 SLE: 0.00 Item: ORIGINAL Washer Door...\u001b[0m\n",
      "\u001b[92m244: Guess: $1.99 Truth: $7.92 Error: $5.93 SLE: 1.19 Item: RANGE KLEEN R6-GE Ch...\u001b[0m\n",
      "\u001b[92m245: Guess: $1.04 Truth: $10.99 Error: $9.95 SLE: 3.14 Item: Carbon Range Hood Fi...\u001b[0m\n",
      "\u001b[92m246: Guess: $7.99 Truth: $9.99 Error: $2.00 SLE: 0.04 Item: Coffee milk can Capp...\u001b[0m\n",
      "\u001b[91m247: Guess: $7.99 Truth: $165.30 Error: $157.31 SLE: 8.51 Item: Norcold Refrigerator...\u001b[0m\n",
      "\u001b[92m248: Guess: $25.99 Truth: $6.99 Error: $19.00 SLE: 1.48 Item: Drawer Latch Replace...\u001b[0m\n",
      "\u001b[91m249: Guess: $1.99 Truth: $505.10 Error: $503.11 SLE: 26.33 Item: KOBE Range Hoods Ins...\u001b[0m\n",
      "\u001b[92m250: Guess: $7.99 Truth: $12.69 Error: $4.70 SLE: 0.18 Item: Appli Parts Washer L...\u001b[0m\n"
     ]
    },
    {
     "data": {
      "image/png": "[encoded data removed]",
      "text/plain": [
       "<Figure size 1200x800 with 1 Axes>"
      ]
     },
     "metadata": {},
     "output_type": "display_data"
    }
   ],
   "source": [
    "Tester.test(model_predict, test)"
   ]
  },
  {
   "cell_type": "code",
   "execution_count": null,
   "id": "01f54fc4-b154-425c-bf28-71ec11a39abc",
   "metadata": {},
   "outputs": [],
   "source": []
  }
 ],
 "metadata": {
  "kernelspec": {
   "display_name": "Python 3 (ipykernel)",
   "language": "python",
   "name": "python3"
  },
  "language_info": {
   "codemirror_mode": {
    "name": "ipython",
    "version": 3
   },
   "file_extension": ".py",
   "mimetype": "text/x-python",
   "name": "python",
   "nbconvert_exporter": "python",
   "pygments_lexer": "ipython3",
   "version": "3.10.12"
  }
 },
 "nbformat": 4,
 "nbformat_minor": 5
}
