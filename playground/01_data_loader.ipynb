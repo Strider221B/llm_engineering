{
 "cells": [
  {
   "cell_type": "code",
   "execution_count": 1,
   "id": "fcc64fa0-fbaa-4740-8636-20c5b8e2159c",
   "metadata": {
    "execution": {
     "iopub.execute_input": "2025-02-01T07:21:03.054922Z",
     "iopub.status.busy": "2025-02-01T07:21:03.054560Z",
     "iopub.status.idle": "2025-02-01T07:21:06.105415Z",
     "shell.execute_reply": "2025-02-01T07:21:06.103835Z",
     "shell.execute_reply.started": "2025-02-01T07:21:03.054894Z"
    }
   },
   "outputs": [],
   "source": [
    "import os\n",
    "import random\n",
    "from dotenv import load_dotenv\n",
    "from huggingface_hub import login\n",
    "from datasets import load_dataset, Dataset, DatasetDict\n",
    "import matplotlib.pyplot as plt\n",
    "from collections import Counter, defaultdict\n",
    "import numpy as np\n",
    "import pickle\n",
    "from sklearn.model_selection import train_test_split"
   ]
  },
  {
   "cell_type": "code",
   "execution_count": 2,
   "id": "5d43dffb-10d1-4f75-8aff-0330b0ae7e87",
   "metadata": {
    "execution": {
     "iopub.execute_input": "2025-02-01T07:21:06.108864Z",
     "iopub.status.busy": "2025-02-01T07:21:06.108066Z",
     "iopub.status.idle": "2025-02-01T07:21:06.119014Z",
     "shell.execute_reply": "2025-02-01T07:21:06.115601Z",
     "shell.execute_reply.started": "2025-02-01T07:21:06.108821Z"
    }
   },
   "outputs": [],
   "source": [
    "load_dotenv()\n",
    "os.environ['HF_TOKEN'] = os.getenv('HF_TOKEN')"
   ]
  },
  {
   "cell_type": "code",
   "execution_count": 3,
   "id": "d8feb3da-8bcc-4626-842e-d00d3718f0a1",
   "metadata": {
    "execution": {
     "iopub.execute_input": "2025-02-01T07:21:06.121686Z",
     "iopub.status.busy": "2025-02-01T07:21:06.120511Z",
     "iopub.status.idle": "2025-02-01T07:21:06.540320Z",
     "shell.execute_reply": "2025-02-01T07:21:06.534826Z",
     "shell.execute_reply.started": "2025-02-01T07:21:06.121627Z"
    }
   },
   "outputs": [
    {
     "name": "stderr",
     "output_type": "stream",
     "text": [
      "Token has not been saved to git credential helper.\n",
      "Note: Environment variable`HF_TOKEN` is set and is the current active token independently from the token you've just configured.\n"
     ]
    },
    {
     "name": "stdout",
     "output_type": "stream",
     "text": [
      "\u001b[1m\u001b[31mCannot authenticate through git-credential as no helper is defined on your machine.\n",
      "You might have to re-authenticate when pushing to the Hugging Face Hub.\n",
      "Run the following command in your terminal in case you want to set the 'store' credential helper as default.\n",
      "\n",
      "git config --global credential.helper store\n",
      "\n",
      "Read https://git-scm.com/book/en/v2/Git-Tools-Credential-Storage for more details.\u001b[0m\n"
     ]
    }
   ],
   "source": [
    "hf_token = os.environ['HF_TOKEN']\n",
    "login(hf_token, add_to_git_credential=True)"
   ]
  },
  {
   "cell_type": "code",
   "execution_count": 4,
   "id": "cff1ff66-725f-4097-b692-1e5c657fb745",
   "metadata": {
    "execution": {
     "iopub.execute_input": "2025-02-01T07:21:06.547877Z",
     "iopub.status.busy": "2025-02-01T07:21:06.545287Z",
     "iopub.status.idle": "2025-02-01T07:21:13.021015Z",
     "shell.execute_reply": "2025-02-01T07:21:13.018992Z",
     "shell.execute_reply.started": "2025-02-01T07:21:06.547738Z"
    }
   },
   "outputs": [],
   "source": [
    "from items import Item\n",
    "from loaders import ItemLoader"
   ]
  },
  {
   "cell_type": "code",
   "execution_count": 5,
   "id": "52a9857a-2088-4ed4-aafa-e75d218cbac5",
   "metadata": {
    "execution": {
     "iopub.execute_input": "2025-02-01T07:21:13.025808Z",
     "iopub.status.busy": "2025-02-01T07:21:13.025161Z",
     "iopub.status.idle": "2025-02-01T07:21:13.034793Z",
     "shell.execute_reply": "2025-02-01T07:21:13.032861Z",
     "shell.execute_reply.started": "2025-02-01T07:21:13.025774Z"
    }
   },
   "outputs": [],
   "source": [
    "dataset_names = [\n",
    "    # \"Automotive\",\n",
    "    # \"Electronics\",\n",
    "    # \"Office_Products\",\n",
    "    # \"Tools_and_Home_Improvement\",\n",
    "    # \"Cell_Phones_and_Accessories\",\n",
    "    # \"Toys_and_Games\",\n",
    "    \"Appliances\",\n",
    "    # \"Musical_Instruments\",\n",
    "]"
   ]
  },
  {
   "cell_type": "code",
   "execution_count": 6,
   "id": "5558fd24-b5b8-4f63-85d7-924b6c8e0eb1",
   "metadata": {
    "execution": {
     "iopub.execute_input": "2025-02-01T07:21:13.036676Z",
     "iopub.status.busy": "2025-02-01T07:21:13.036251Z",
     "iopub.status.idle": "2025-02-01T07:21:37.836349Z",
     "shell.execute_reply": "2025-02-01T07:21:37.834939Z",
     "shell.execute_reply.started": "2025-02-01T07:21:13.036632Z"
    }
   },
   "outputs": [
    {
     "name": "stdout",
     "output_type": "stream",
     "text": [
      "Loading dataset Appliances\n"
     ]
    },
    {
     "name": "stderr",
     "output_type": "stream",
     "text": [
      "100%|██████████████████████████████████████████████████████████████████████████████████████████████████████████████████████████████████████████████████████████████████████████████| 95/95 [00:20<00:00,  4.56it/s]"
     ]
    },
    {
     "name": "stdout",
     "output_type": "stream",
     "text": [
      "Completed Appliances with 28,625 datapoints in 0.4 mins\n"
     ]
    },
    {
     "name": "stderr",
     "output_type": "stream",
     "text": [
      "\n"
     ]
    }
   ],
   "source": [
    "items = []\n",
    "for dataset_name in dataset_names:\n",
    "    loader = ItemLoader(dataset_name)\n",
    "    items.extend(loader.load())"
   ]
  },
  {
   "cell_type": "code",
   "execution_count": 7,
   "id": "c54b42ed-d05e-41fc-abe6-ec9b06392521",
   "metadata": {
    "execution": {
     "iopub.execute_input": "2025-02-01T07:21:37.838679Z",
     "iopub.status.busy": "2025-02-01T07:21:37.838269Z",
     "iopub.status.idle": "2025-02-01T07:21:37.846181Z",
     "shell.execute_reply": "2025-02-01T07:21:37.844485Z",
     "shell.execute_reply.started": "2025-02-01T07:21:37.838639Z"
    }
   },
   "outputs": [
    {
     "name": "stdout",
     "output_type": "stream",
     "text": [
      "A grand total of 28,625 items\n"
     ]
    }
   ],
   "source": [
    "print(f\"A grand total of {len(items):,} items\")"
   ]
  },
  {
   "cell_type": "code",
   "execution_count": 8,
   "id": "578669a6-b8b2-4766-8409-b771edc9d27e",
   "metadata": {
    "execution": {
     "iopub.execute_input": "2025-02-01T07:21:37.848021Z",
     "iopub.status.busy": "2025-02-01T07:21:37.847314Z",
     "iopub.status.idle": "2025-02-01T07:21:37.867895Z",
     "shell.execute_reply": "2025-02-01T07:21:37.866922Z",
     "shell.execute_reply.started": "2025-02-01T07:21:37.847986Z"
    }
   },
   "outputs": [],
   "source": [
    "train_items, test_items = train_test_split(items, test_size=0.2, random_state=42)"
   ]
  },
  {
   "cell_type": "code",
   "execution_count": 9,
   "id": "ee0403b0-d28f-4154-ae01-f1976d348cc1",
   "metadata": {
    "execution": {
     "iopub.execute_input": "2025-02-01T07:21:37.869859Z",
     "iopub.status.busy": "2025-02-01T07:21:37.869275Z",
     "iopub.status.idle": "2025-02-01T07:21:37.884363Z",
     "shell.execute_reply": "2025-02-01T07:21:37.882494Z",
     "shell.execute_reply.started": "2025-02-01T07:21:37.869826Z"
    }
   },
   "outputs": [
    {
     "data": {
      "text/plain": [
       "<Discount Parts Direct 316075104 Oven Bake Element Heating Element for Frigidaire Kenmore, Replaces 316282600, 09990062, 1465763, 316075100, 316075102, 316075103, 3203534, AH2332301, EA2332301, F83-455, PS2332301 = $26.97>"
      ]
     },
     "execution_count": 9,
     "metadata": {},
     "output_type": "execute_result"
    }
   ],
   "source": [
    "test_items[0]"
   ]
  },
  {
   "cell_type": "code",
   "execution_count": 12,
   "id": "6e9bc25c-ae90-4c47-b3cd-7e3be77334e8",
   "metadata": {
    "execution": {
     "iopub.execute_input": "2025-02-01T07:22:14.291374Z",
     "iopub.status.busy": "2025-02-01T07:22:14.290974Z",
     "iopub.status.idle": "2025-02-01T07:22:14.335973Z",
     "shell.execute_reply": "2025-02-01T07:22:14.334785Z",
     "shell.execute_reply.started": "2025-02-01T07:22:14.291347Z"
    }
   },
   "outputs": [],
   "source": [
    "train_prompts = [item.prompt for item in train_items]\n",
    "train_prices = [item.price for item in train_items]\n",
    "test_prompts = [item.test_prompt() for item in test_items]\n",
    "test_prices = [item.price for item in test_items]"
   ]
  },
  {
   "cell_type": "code",
   "execution_count": 13,
   "id": "554be18d-24d2-407c-801c-249b2e3186d4",
   "metadata": {
    "execution": {
     "iopub.execute_input": "2025-02-01T07:22:24.564824Z",
     "iopub.status.busy": "2025-02-01T07:22:24.564321Z",
     "iopub.status.idle": "2025-02-01T07:22:24.794812Z",
     "shell.execute_reply": "2025-02-01T07:22:24.793245Z",
     "shell.execute_reply.started": "2025-02-01T07:22:24.564785Z"
    }
   },
   "outputs": [],
   "source": [
    "train_dataset = Dataset.from_dict({\"text\": train_prompts, \"price\": train_prices})\n",
    "test_dataset = Dataset.from_dict({\"text\": test_prompts, \"price\": test_prices})\n",
    "dataset = DatasetDict({\n",
    "    \"train\": train_dataset,\n",
    "    \"test\": test_dataset\n",
    "})"
   ]
  },
  {
   "cell_type": "code",
   "execution_count": 14,
   "id": "bde83442-eeff-42ad-8d47-6cd4a901c22d",
   "metadata": {
    "execution": {
     "iopub.execute_input": "2025-02-01T07:27:02.194752Z",
     "iopub.status.busy": "2025-02-01T07:27:02.194389Z",
     "iopub.status.idle": "2025-02-01T07:27:02.281537Z",
     "shell.execute_reply": "2025-02-01T07:27:02.280278Z",
     "shell.execute_reply.started": "2025-02-01T07:27:02.194726Z"
    }
   },
   "outputs": [],
   "source": [
    "with open('./../data/app_train_dataset.pkl', 'wb') as f:\n",
    "    pickle.dump(train_dataset, f)\n",
    "with open('./../data/app_test_dataset.pkl', 'wb') as f:\n",
    "    pickle.dump(test_dataset, f)"
   ]
  },
  {
   "cell_type": "code",
   "execution_count": null,
   "id": "e7c3f4c3-b704-4caa-a7e4-a368fdce3aa5",
   "metadata": {},
   "outputs": [],
   "source": []
  }
 ],
 "metadata": {
  "kernelspec": {
   "display_name": "Python 3 (ipykernel)",
   "language": "python",
   "name": "python3"
  },
  "language_info": {
   "codemirror_mode": {
    "name": "ipython",
    "version": 3
   },
   "file_extension": ".py",
   "mimetype": "text/x-python",
   "name": "python",
   "nbconvert_exporter": "python",
   "pygments_lexer": "ipython3",
   "version": "3.10.12"
  }
 },
 "nbformat": 4,
 "nbformat_minor": 5
}
