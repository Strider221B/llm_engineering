{
 "cells": [
  {
   "cell_type": "code",
   "execution_count": 15,
   "id": "a3610070-be3d-4dc1-9466-931524f8c33b",
   "metadata": {
    "execution": {
     "iopub.execute_input": "2025-02-02T08:37:07.259799Z",
     "iopub.status.busy": "2025-02-02T08:37:07.259453Z",
     "iopub.status.idle": "2025-02-02T08:37:07.266538Z",
     "shell.execute_reply": "2025-02-02T08:37:07.265248Z",
     "shell.execute_reply.started": "2025-02-02T08:37:07.259775Z"
    }
   },
   "outputs": [],
   "source": [
    "import os\n",
    "import re\n",
    "import pickle\n",
    "from dotenv import load_dotenv\n",
    "from tqdm import tqdm\n",
    "from huggingface_hub import login\n",
    "import torch\n",
    "import torch.nn.functional as F\n",
    "import transformers\n",
    "from transformers import AutoModelForCausalLM, AutoTokenizer, BitsAndBytesConfig, set_seed\n",
    "from datasets import load_dataset, Dataset, DatasetDict\n",
    "from datetime import datetime\n",
    "from peft import PeftModel\n",
    "from tester import Tester"
   ]
  },
  {
   "cell_type": "code",
   "execution_count": 2,
   "id": "f3bb6a15-5502-46d0-b421-568c7187bd57",
   "metadata": {
    "execution": {
     "iopub.execute_input": "2025-02-02T08:24:45.622522Z",
     "iopub.status.busy": "2025-02-02T08:24:45.621583Z",
     "iopub.status.idle": "2025-02-02T08:24:45.627294Z",
     "shell.execute_reply": "2025-02-02T08:24:45.626194Z",
     "shell.execute_reply.started": "2025-02-02T08:24:45.622478Z"
    }
   },
   "outputs": [],
   "source": [
    "BASE_MODEL = \"meta-llama/Llama-3.2-1B\"\n",
    "PROJECT_NAME = \"pricer\"\n",
    "HF_USER = \"Strider221B\""
   ]
  },
  {
   "cell_type": "code",
   "execution_count": 3,
   "id": "5ad1144b-54a2-4914-89f5-856fd774ff5b",
   "metadata": {
    "execution": {
     "iopub.execute_input": "2025-02-02T08:31:50.637727Z",
     "iopub.status.busy": "2025-02-02T08:31:50.636644Z",
     "iopub.status.idle": "2025-02-02T08:31:50.643051Z",
     "shell.execute_reply": "2025-02-02T08:31:50.642001Z",
     "shell.execute_reply.started": "2025-02-02T08:31:50.637677Z"
    }
   },
   "outputs": [],
   "source": [
    "RUN_NAME = \"2025-02-02_13.26.22\"\n",
    "PROJECT_RUN_NAME = f\"{PROJECT_NAME}-{RUN_NAME}\"\n",
    "REVISION = None # or REVISION = None\n",
    "FINETUNED_MODEL = f\"{HF_USER}/{PROJECT_RUN_NAME}\"\n",
    "QUANT_4_BIT = True"
   ]
  },
  {
   "cell_type": "code",
   "execution_count": 5,
   "id": "31275e98-8ebc-49b0-a35c-557b4f75061b",
   "metadata": {
    "execution": {
     "iopub.execute_input": "2025-02-02T08:33:13.625995Z",
     "iopub.status.busy": "2025-02-02T08:33:13.625441Z",
     "iopub.status.idle": "2025-02-02T08:33:14.226752Z",
     "shell.execute_reply": "2025-02-02T08:33:14.225619Z",
     "shell.execute_reply.started": "2025-02-02T08:33:13.625966Z"
    }
   },
   "outputs": [
    {
     "name": "stderr",
     "output_type": "stream",
     "text": [
      "Token has not been saved to git credential helper.\n",
      "Note: Environment variable`HF_TOKEN` is set and is the current active token independently from the token you've just configured.\n"
     ]
    },
    {
     "name": "stdout",
     "output_type": "stream",
     "text": [
      "\u001b[1m\u001b[31mCannot authenticate through git-credential as no helper is defined on your machine.\n",
      "You might have to re-authenticate when pushing to the Hugging Face Hub.\n",
      "Run the following command in your terminal in case you want to set the 'store' credential helper as default.\n",
      "\n",
      "git config --global credential.helper store\n",
      "\n",
      "Read https://git-scm.com/book/en/v2/Git-Tools-Credential-Storage for more details.\u001b[0m\n"
     ]
    }
   ],
   "source": [
    "load_dotenv()\n",
    "hf_token = os.getenv('HF_TOKEN_WR')\n",
    "login(hf_token, add_to_git_credential=True)"
   ]
  },
  {
   "cell_type": "code",
   "execution_count": 6,
   "id": "03d484c1-c7ff-4c93-b5cd-c9ccc54930c1",
   "metadata": {
    "execution": {
     "iopub.execute_input": "2025-02-02T08:34:07.607556Z",
     "iopub.status.busy": "2025-02-02T08:34:07.606989Z",
     "iopub.status.idle": "2025-02-02T08:34:07.640307Z",
     "shell.execute_reply": "2025-02-02T08:34:07.639099Z",
     "shell.execute_reply.started": "2025-02-02T08:34:07.607525Z"
    }
   },
   "outputs": [],
   "source": [
    "with open('./../data/app_test_dataset.pkl', 'rb') as f:\n",
    "    test = pickle.load(f)"
   ]
  },
  {
   "cell_type": "code",
   "execution_count": 7,
   "id": "39ad8e08-06f5-4313-bd30-537504b329aa",
   "metadata": {
    "execution": {
     "iopub.execute_input": "2025-02-02T08:34:30.613931Z",
     "iopub.status.busy": "2025-02-02T08:34:30.613607Z",
     "iopub.status.idle": "2025-02-02T08:34:30.619831Z",
     "shell.execute_reply": "2025-02-02T08:34:30.618582Z",
     "shell.execute_reply.started": "2025-02-02T08:34:30.613908Z"
    }
   },
   "outputs": [],
   "source": [
    "def extract_price(s):\n",
    "    if \"Price is $\" in s:\n",
    "      contents = s.split(\"Price is $\")[1]\n",
    "      contents = contents.replace(',','')\n",
    "      match = re.search(r\"[-+]?\\d*\\.\\d+|\\d+\", contents)\n",
    "      return float(match.group()) if match else 0\n",
    "    return 0"
   ]
  },
  {
   "cell_type": "code",
   "execution_count": 8,
   "id": "0aaf3ea1-d3c6-480d-bd07-086c27d68eec",
   "metadata": {
    "execution": {
     "iopub.execute_input": "2025-02-02T08:35:03.271258Z",
     "iopub.status.busy": "2025-02-02T08:35:03.270712Z",
     "iopub.status.idle": "2025-02-02T08:35:03.277591Z",
     "shell.execute_reply": "2025-02-02T08:35:03.276672Z",
     "shell.execute_reply.started": "2025-02-02T08:35:03.271233Z"
    }
   },
   "outputs": [],
   "source": [
    "quant_config = BitsAndBytesConfig(\n",
    "    load_in_4bit=True,\n",
    "    bnb_4bit_use_double_quant=True,\n",
    "    bnb_4bit_compute_dtype=torch.bfloat16,\n",
    "    bnb_4bit_quant_type=\"nf4\")"
   ]
  },
  {
   "cell_type": "code",
   "execution_count": 9,
   "id": "c49d512d-5797-4f60-8e6f-c926e5cfc98c",
   "metadata": {
    "execution": {
     "iopub.execute_input": "2025-02-02T08:35:16.511183Z",
     "iopub.status.busy": "2025-02-02T08:35:16.510325Z",
     "iopub.status.idle": "2025-02-02T08:35:22.157048Z",
     "shell.execute_reply": "2025-02-02T08:35:22.156047Z",
     "shell.execute_reply.started": "2025-02-02T08:35:16.511156Z"
    }
   },
   "outputs": [],
   "source": [
    "tokenizer = AutoTokenizer.from_pretrained(BASE_MODEL, trust_remote_code=True)\n",
    "tokenizer.pad_token = tokenizer.eos_token\n",
    "tokenizer.padding_side = \"right\"\n",
    "\n",
    "base_model = AutoModelForCausalLM.from_pretrained(\n",
    "    BASE_MODEL,\n",
    "    quantization_config=quant_config,\n",
    "    device_map=\"auto\",\n",
    ")\n",
    "base_model.generation_config.pad_token_id = tokenizer.pad_token_id"
   ]
  },
  {
   "cell_type": "code",
   "execution_count": 10,
   "id": "04d7c8af-8e46-41be-84d1-d4b8e6cb5d32",
   "metadata": {
    "execution": {
     "iopub.execute_input": "2025-02-02T08:35:40.120651Z",
     "iopub.status.busy": "2025-02-02T08:35:40.120122Z",
     "iopub.status.idle": "2025-02-02T08:35:44.091940Z",
     "shell.execute_reply": "2025-02-02T08:35:44.091228Z",
     "shell.execute_reply.started": "2025-02-02T08:35:40.120625Z"
    }
   },
   "outputs": [
    {
     "data": {
      "application/vnd.jupyter.widget-view+json": {
       "model_id": "55ecb6419f5d4dcdad9da47d47882251",
       "version_major": 2,
       "version_minor": 0
      },
      "text/plain": [
       "adapter_config.json:   0%|          | 0.00/747 [00:00<?, ?B/s]"
      ]
     },
     "metadata": {},
     "output_type": "display_data"
    },
    {
     "data": {
      "application/vnd.jupyter.widget-view+json": {
       "model_id": "afbae214fda94ef8b9ba6df1162fd224",
       "version_major": 2,
       "version_minor": 0
      },
      "text/plain": [
       "adapter_model.safetensors:   0%|          | 0.00/27.3M [00:00<?, ?B/s]"
      ]
     },
     "metadata": {},
     "output_type": "display_data"
    }
   ],
   "source": [
    "fine_tuned_model = PeftModel.from_pretrained(base_model, FINETUNED_MODEL)"
   ]
  },
  {
   "cell_type": "code",
   "execution_count": 11,
   "id": "53c4fc0c-4c6e-4894-929c-d2cec845e2e4",
   "metadata": {
    "execution": {
     "iopub.execute_input": "2025-02-02T08:35:54.557881Z",
     "iopub.status.busy": "2025-02-02T08:35:54.557258Z",
     "iopub.status.idle": "2025-02-02T08:35:54.566665Z",
     "shell.execute_reply": "2025-02-02T08:35:54.565361Z",
     "shell.execute_reply.started": "2025-02-02T08:35:54.557853Z"
    }
   },
   "outputs": [
    {
     "name": "stdout",
     "output_type": "stream",
     "text": [
      "Memory footprint: 1039.3 MB\n"
     ]
    }
   ],
   "source": [
    "print(f\"Memory footprint: {fine_tuned_model.get_memory_footprint() / 1e6:.1f} MB\")"
   ]
  },
  {
   "cell_type": "code",
   "execution_count": 12,
   "id": "cfaf2325-d0ea-400f-b213-0b7f0dc5cae4",
   "metadata": {
    "execution": {
     "iopub.execute_input": "2025-02-02T08:36:18.794072Z",
     "iopub.status.busy": "2025-02-02T08:36:18.791808Z",
     "iopub.status.idle": "2025-02-02T08:36:18.818169Z",
     "shell.execute_reply": "2025-02-02T08:36:18.816728Z",
     "shell.execute_reply.started": "2025-02-02T08:36:18.794038Z"
    }
   },
   "outputs": [
    {
     "data": {
      "text/plain": [
       "PeftModelForCausalLM(\n",
       "  (base_model): LoraModel(\n",
       "    (model): LlamaForCausalLM(\n",
       "      (model): LlamaModel(\n",
       "        (embed_tokens): Embedding(128256, 2048)\n",
       "        (layers): ModuleList(\n",
       "          (0-15): 16 x LlamaDecoderLayer(\n",
       "            (self_attn): LlamaSdpaAttention(\n",
       "              (q_proj): lora.Linear4bit(\n",
       "                (base_layer): Linear4bit(in_features=2048, out_features=2048, bias=False)\n",
       "                (lora_dropout): ModuleDict(\n",
       "                  (default): Dropout(p=0.1, inplace=False)\n",
       "                )\n",
       "                (lora_A): ModuleDict(\n",
       "                  (default): Linear(in_features=2048, out_features=32, bias=False)\n",
       "                )\n",
       "                (lora_B): ModuleDict(\n",
       "                  (default): Linear(in_features=32, out_features=2048, bias=False)\n",
       "                )\n",
       "                (lora_embedding_A): ParameterDict()\n",
       "                (lora_embedding_B): ParameterDict()\n",
       "                (lora_magnitude_vector): ModuleDict()\n",
       "              )\n",
       "              (k_proj): lora.Linear4bit(\n",
       "                (base_layer): Linear4bit(in_features=2048, out_features=512, bias=False)\n",
       "                (lora_dropout): ModuleDict(\n",
       "                  (default): Dropout(p=0.1, inplace=False)\n",
       "                )\n",
       "                (lora_A): ModuleDict(\n",
       "                  (default): Linear(in_features=2048, out_features=32, bias=False)\n",
       "                )\n",
       "                (lora_B): ModuleDict(\n",
       "                  (default): Linear(in_features=32, out_features=512, bias=False)\n",
       "                )\n",
       "                (lora_embedding_A): ParameterDict()\n",
       "                (lora_embedding_B): ParameterDict()\n",
       "                (lora_magnitude_vector): ModuleDict()\n",
       "              )\n",
       "              (v_proj): lora.Linear4bit(\n",
       "                (base_layer): Linear4bit(in_features=2048, out_features=512, bias=False)\n",
       "                (lora_dropout): ModuleDict(\n",
       "                  (default): Dropout(p=0.1, inplace=False)\n",
       "                )\n",
       "                (lora_A): ModuleDict(\n",
       "                  (default): Linear(in_features=2048, out_features=32, bias=False)\n",
       "                )\n",
       "                (lora_B): ModuleDict(\n",
       "                  (default): Linear(in_features=32, out_features=512, bias=False)\n",
       "                )\n",
       "                (lora_embedding_A): ParameterDict()\n",
       "                (lora_embedding_B): ParameterDict()\n",
       "                (lora_magnitude_vector): ModuleDict()\n",
       "              )\n",
       "              (o_proj): lora.Linear4bit(\n",
       "                (base_layer): Linear4bit(in_features=2048, out_features=2048, bias=False)\n",
       "                (lora_dropout): ModuleDict(\n",
       "                  (default): Dropout(p=0.1, inplace=False)\n",
       "                )\n",
       "                (lora_A): ModuleDict(\n",
       "                  (default): Linear(in_features=2048, out_features=32, bias=False)\n",
       "                )\n",
       "                (lora_B): ModuleDict(\n",
       "                  (default): Linear(in_features=32, out_features=2048, bias=False)\n",
       "                )\n",
       "                (lora_embedding_A): ParameterDict()\n",
       "                (lora_embedding_B): ParameterDict()\n",
       "                (lora_magnitude_vector): ModuleDict()\n",
       "              )\n",
       "              (rotary_emb): LlamaRotaryEmbedding()\n",
       "            )\n",
       "            (mlp): LlamaMLP(\n",
       "              (gate_proj): Linear4bit(in_features=2048, out_features=8192, bias=False)\n",
       "              (up_proj): Linear4bit(in_features=2048, out_features=8192, bias=False)\n",
       "              (down_proj): Linear4bit(in_features=8192, out_features=2048, bias=False)\n",
       "              (act_fn): SiLU()\n",
       "            )\n",
       "            (input_layernorm): LlamaRMSNorm((2048,), eps=1e-05)\n",
       "            (post_attention_layernorm): LlamaRMSNorm((2048,), eps=1e-05)\n",
       "          )\n",
       "        )\n",
       "        (norm): LlamaRMSNorm((2048,), eps=1e-05)\n",
       "        (rotary_emb): LlamaRotaryEmbedding()\n",
       "      )\n",
       "      (lm_head): Linear(in_features=2048, out_features=128256, bias=False)\n",
       "    )\n",
       "  )\n",
       ")"
      ]
     },
     "execution_count": 12,
     "metadata": {},
     "output_type": "execute_result"
    }
   ],
   "source": [
    "fine_tuned_model"
   ]
  },
  {
   "cell_type": "code",
   "execution_count": 13,
   "id": "dc381198-9285-46f4-845b-2f5723accf75",
   "metadata": {
    "execution": {
     "iopub.execute_input": "2025-02-02T08:36:36.129625Z",
     "iopub.status.busy": "2025-02-02T08:36:36.128694Z",
     "iopub.status.idle": "2025-02-02T08:36:36.138495Z",
     "shell.execute_reply": "2025-02-02T08:36:36.137028Z",
     "shell.execute_reply.started": "2025-02-02T08:36:36.129596Z"
    }
   },
   "outputs": [],
   "source": [
    "def model_predict(prompt):\n",
    "    set_seed(42)\n",
    "    inputs = tokenizer.encode(prompt, return_tensors=\"pt\").to(\"cuda\")\n",
    "    attention_mask = torch.ones(inputs.shape, device=\"cuda\")\n",
    "    outputs = fine_tuned_model.generate(inputs, attention_mask=attention_mask, max_new_tokens=3, num_return_sequences=1)\n",
    "    response = tokenizer.decode(outputs[0])\n",
    "    return extract_price(response)"
   ]
  },
  {
   "cell_type": "code",
   "execution_count": 14,
   "id": "400536b1-3d8a-401c-bf2c-32ef93501ee2",
   "metadata": {
    "execution": {
     "iopub.execute_input": "2025-02-02T08:36:45.396843Z",
     "iopub.status.busy": "2025-02-02T08:36:45.395867Z",
     "iopub.status.idle": "2025-02-02T08:36:45.407622Z",
     "shell.execute_reply": "2025-02-02T08:36:45.405970Z",
     "shell.execute_reply.started": "2025-02-02T08:36:45.396815Z"
    }
   },
   "outputs": [],
   "source": [
    "top_K = 3\n",
    "\n",
    "def improved_model_predict(prompt, device=\"cuda\"):\n",
    "    set_seed(42)\n",
    "    inputs = tokenizer.encode(prompt, return_tensors=\"pt\").to(device)\n",
    "    attention_mask = torch.ones(inputs.shape, device=device)\n",
    "\n",
    "    with torch.no_grad():\n",
    "        outputs = fine_tuned_model(inputs, attention_mask=attention_mask)\n",
    "        next_token_logits = outputs.logits[:, -1, :].to('cpu')\n",
    "\n",
    "    next_token_probs = F.softmax(next_token_logits, dim=-1)\n",
    "    top_prob, top_token_id = next_token_probs.topk(top_K)\n",
    "    prices, weights = [], []\n",
    "    for i in range(top_K):\n",
    "      predicted_token = tokenizer.decode(top_token_id[0][i])\n",
    "      probability = top_prob[0][i]\n",
    "      try:\n",
    "        result = float(predicted_token)\n",
    "      except ValueError as e:\n",
    "        result = 0.0\n",
    "      if result > 0:\n",
    "        prices.append(result)\n",
    "        weights.append(probability)\n",
    "    if not prices:\n",
    "      return 0.0, 0.0\n",
    "    total = sum(weights)\n",
    "    weighted_prices = [price * weight / total for price, weight in zip(prices, weights)]\n",
    "    return sum(weighted_prices).item()"
   ]
  },
  {
   "cell_type": "code",
   "execution_count": 16,
   "id": "ff4f9db2-096d-4c44-b628-9cc66898b19a",
   "metadata": {
    "execution": {
     "iopub.execute_input": "2025-02-02T08:37:11.021385Z",
     "iopub.status.busy": "2025-02-02T08:37:11.020714Z",
     "iopub.status.idle": "2025-02-02T08:40:22.649271Z",
     "shell.execute_reply": "2025-02-02T08:40:22.648279Z",
     "shell.execute_reply.started": "2025-02-02T08:37:11.021361Z"
    }
   },
   "outputs": [
    {
     "name": "stdout",
     "output_type": "stream",
     "text": [
      "\u001b[92m1: Guess: $12.28 Truth: $26.97 Error: $14.69 SLE: 0.55 Item: Discount Parts Direc...\u001b[0m\n",
      "\u001b[92m2: Guess: $18.00 Truth: $36.99 Error: $18.99 SLE: 0.48 Item: BestRec Dryer Vent H...\u001b[0m\n",
      "\u001b[92m3: Guess: $46.88 Truth: $41.33 Error: $5.55 SLE: 0.02 Item: Fuxury 12 Inch Impul...\u001b[0m\n",
      "\u001b[92m4: Guess: $12.22 Truth: $45.02 Error: $32.80 SLE: 1.56 Item: Compatible Dryer Hea...\u001b[0m\n",
      "\u001b[92m5: Guess: $15.16 Truth: $13.97 Error: $1.19 SLE: 0.01 Item: 694089 Dryer Blower ...\u001b[0m\n",
      "\u001b[93m6: Guess: $12.30 Truth: $55.65 Error: $43.35 SLE: 2.10 Item: Compatible with Whir...\u001b[0m\n",
      "\u001b[92m7: Guess: $8.41 Truth: $20.99 Error: $12.58 SLE: 0.72 Item: Replacement Aluminum...\u001b[0m\n",
      "\u001b[92m8: Guess: $12.33 Truth: $30.68 Error: $18.35 SLE: 0.75 Item: Lifetime Appliance P...\u001b[0m\n",
      "\u001b[93m9: Guess: $14.61 Truth: $57.99 Error: $43.38 SLE: 1.77 Item: OEM LG Refrigerator ...\u001b[0m\n",
      "\u001b[92m10: Guess: $12.08 Truth: $8.99 Error: $3.09 SLE: 0.07 Item: Dryer Lint Filter Re...\u001b[0m\n",
      "\u001b[92m11: Guess: $12.40 Truth: $25.95 Error: $13.55 SLE: 0.49 Item: FAMCO Dryer Vent Cov...\u001b[0m\n",
      "\u001b[92m12: Guess: $6.97 Truth: $13.99 Error: $7.02 SLE: 0.40 Item: HIFROM Humidifier Wi...\u001b[0m\n",
      "\u001b[92m13: Guess: $26.42 Truth: $13.27 Error: $13.15 SLE: 0.43 Item: - LG Refrigerator Re...\u001b[0m\n",
      "\u001b[92m14: Guess: $12.25 Truth: $33.69 Error: $21.44 SLE: 0.93 Item: Frigidaire Surface B...\u001b[0m\n",
      "\u001b[92m15: Guess: $12.19 Truth: $9.95 Error: $2.24 SLE: 0.03 Item: High Limit Thermosta...\u001b[0m\n",
      "\u001b[91m16: Guess: $9.72 Truth: $106.48 Error: $96.76 SLE: 5.31 Item: Frigidaire Surface B...\u001b[0m\n",
      "\u001b[92m17: Guess: $12.44 Truth: $21.36 Error: $8.92 SLE: 0.26 Item: EnviroCare Replaceme...\u001b[0m\n",
      "\u001b[93m18: Guess: $45.69 Truth: $119.99 Error: $74.30 SLE: 0.91 Item: MAT Expert Counterto...\u001b[0m\n",
      "\u001b[92m19: Guess: $22.47 Truth: $8.95 Error: $13.52 SLE: 0.74 Item: Magic Chef Magic Ste...\u001b[0m\n",
      "\u001b[92m20: Guess: $12.38 Truth: $29.95 Error: $17.57 SLE: 0.70 Item: HQRP 2-pack Water Fi...\u001b[0m\n",
      "\u001b[92m21: Guess: $12.19 Truth: $11.99 Error: $0.20 SLE: 0.00 Item: 2 Pcs Dryer Drum Gli...\u001b[0m\n",
      "\u001b[92m22: Guess: $7.08 Truth: $44.66 Error: $37.58 SLE: 3.00 Item: OEM Samsung Dryer Li...\u001b[0m\n",
      "\u001b[92m23: Guess: $12.19 Truth: $16.99 Error: $4.80 SLE: 0.10 Item: Reusable K Cups For ...\u001b[0m\n",
      "\u001b[92m24: Guess: $8.84 Truth: $29.95 Error: $21.11 SLE: 1.31 Item: 5-Star Humidifier Fi...\u001b[0m\n",
      "\u001b[92m25: Guess: $12.17 Truth: $15.99 Error: $3.82 SLE: 0.06 Item: getalong HFT600 Humi...\u001b[0m\n",
      "\u001b[92m26: Guess: $10.42 Truth: $11.95 Error: $1.53 SLE: 0.02 Item: Stove Counter Gap Co...\u001b[0m\n",
      "\u001b[92m27: Guess: $10.03 Truth: $28.99 Error: $18.96 SLE: 1.00 Item: Switch OEM Mania New...\u001b[0m\n",
      "\u001b[93m28: Guess: $117.38 Truth: $189.00 Error: $71.62 SLE: 0.22 Item: Broan QS1 Series Und...\u001b[0m\n",
      "\u001b[92m29: Guess: $15.62 Truth: $21.91 Error: $6.29 SLE: 0.10 Item: HQRP 2-Pack Water Fi...\u001b[0m\n",
      "\u001b[91m30: Guess: $47.44 Truth: $249.90 Error: $202.46 SLE: 2.71 Item: Deep Freezer Small 3...\u001b[0m\n",
      "\u001b[92m31: Guess: $9.41 Truth: $20.75 Error: $11.34 SLE: 0.54 Item: General Electric Dry...\u001b[0m\n",
      "\u001b[92m32: Guess: $12.45 Truth: $7.99 Error: $4.46 SLE: 0.16 Item: Anti Vibration Pads ...\u001b[0m\n",
      "\u001b[92m33: Guess: $6.00 Truth: $7.49 Error: $1.49 SLE: 0.04 Item: uxcell Washer Water ...\u001b[0m\n",
      "\u001b[92m34: Guess: $20.09 Truth: $29.99 Error: $9.90 SLE: 0.15 Item: Davivy Electric Hot ...\u001b[0m\n",
      "\u001b[92m35: Guess: $12.27 Truth: $28.99 Error: $16.72 SLE: 0.67 Item: Supplying Demand Gas...\u001b[0m\n",
      "\u001b[91m36: Guess: $133.50 Truth: $413.00 Error: $279.50 SLE: 1.26 Item: Awoco 36 Stainless S...\u001b[0m\n",
      "\u001b[92m37: Guess: $7.05 Truth: $22.94 Error: $15.89 SLE: 1.19 Item: Kelvinator 0C3162 IN...\u001b[0m\n",
      "\u001b[92m38: Guess: $14.95 Truth: $7.99 Error: $6.96 SLE: 0.33 Item: YXYBST Refrigerator ...\u001b[0m\n",
      "\u001b[93m39: Guess: $12.45 Truth: $69.09 Error: $56.64 SLE: 2.73 Item: LG Handle Assembly,F...\u001b[0m\n",
      "\u001b[93m40: Guess: $17.84 Truth: $70.99 Error: $53.15 SLE: 1.80 Item: PUREPLUS Replacement...\u001b[0m\n",
      "\u001b[92m41: Guess: $24.56 Truth: $10.99 Error: $13.57 SLE: 0.57 Item: Denali Pure Replacem...\u001b[0m\n",
      "\u001b[92m42: Guess: $7.51 Truth: $9.99 Error: $2.48 SLE: 0.07 Item: 6-Pack Dryer Light B...\u001b[0m\n",
      "\u001b[93m43: Guess: $14.98 Truth: $80.84 Error: $65.86 SLE: 2.67 Item: Whirlpool Part Numbe...\u001b[0m\n",
      "\u001b[92m44: Guess: $21.38 Truth: $23.67 Error: $2.30 SLE: 0.01 Item: Upgraded Heating Ele...\u001b[0m\n",
      "\u001b[92m45: Guess: $7.11 Truth: $21.99 Error: $14.88 SLE: 1.09 Item: Highland Cow Country...\u001b[0m\n",
      "\u001b[93m46: Guess: $10.28 Truth: $79.99 Error: $69.71 SLE: 3.89 Item: Perfect Pod EZ-Cup P...\u001b[0m\n",
      "\u001b[92m47: Guess: $38.06 Truth: $58.99 Error: $20.93 SLE: 0.18 Item: Karinear Portable El...\u001b[0m\n",
      "\u001b[92m48: Guess: $20.78 Truth: $52.99 Error: $32.21 SLE: 0.82 Item: 3-Tier Oven Rack -- ...\u001b[0m\n",
      "\u001b[92m49: Guess: $9.50 Truth: $15.99 Error: $6.49 SLE: 0.23 Item: 2-Pack Dryer Idler P...\u001b[0m\n",
      "\u001b[91m50: Guess: $12.42 Truth: $121.99 Error: $109.57 SLE: 4.91 Item: GE Zoneline PTAC Par...\u001b[0m\n",
      "\u001b[92m51: Guess: $12.23 Truth: $6.95 Error: $5.28 SLE: 0.26 Item: Upgraded Dryer Drum ...\u001b[0m\n",
      "\u001b[93m52: Guess: $7.14 Truth: $55.79 Error: $48.65 SLE: 3.77 Item: TRUE 810807 Narrow B...\u001b[0m\n",
      "\u001b[92m53: Guess: $21.33 Truth: $13.99 Error: $7.34 SLE: 0.16 Item: briidea LED Light Bo...\u001b[0m\n",
      "\u001b[92m54: Guess: $9.26 Truth: $11.99 Error: $2.73 SLE: 0.06 Item: Forchrinse Orange Re...\u001b[0m\n",
      "\u001b[92m55: Guess: $12.42 Truth: $9.22 Error: $3.20 SLE: 0.07 Item: 303395 Dryer High Li...\u001b[0m\n",
      "\u001b[92m56: Guess: $15.11 Truth: $54.03 Error: $38.92 SLE: 1.51 Item: Vogelzang BD-06 Appl...\u001b[0m\n",
      "\u001b[93m57: Guess: $12.34 Truth: $59.99 Error: $47.65 SLE: 2.31 Item: Supplying Demand Ele...\u001b[0m\n",
      "\u001b[92m58: Guess: $12.02 Truth: $33.64 Error: $21.62 SLE: 0.96 Item: Broan Grille with Sp...\u001b[0m\n",
      "\u001b[91m59: Guess: $25.09 Truth: $120.02 Error: $94.93 SLE: 2.35 Item: (OCN) New Refrigerat...\u001b[0m\n",
      "\u001b[92m60: Guess: $14.98 Truth: $20.49 Error: $5.51 SLE: 0.09 Item: Diverter Valve Motor...\u001b[0m\n",
      "\u001b[92m61: Guess: $3.54 Truth: $8.96 Error: $5.42 SLE: 0.62 Item: Melitta Wrap Around ...\u001b[0m\n",
      "\u001b[92m62: Guess: $19.95 Truth: $9.46 Error: $10.49 SLE: 0.48 Item: Suburban 140245 Burn...\u001b[0m\n",
      "\u001b[91m63: Guess: $12.45 Truth: $301.55 Error: $289.10 SLE: 9.69 Item: Traulsen Fan Motor a...\u001b[0m\n",
      "\u001b[93m64: Guess: $25.00 Truth: $94.40 Error: $69.40 SLE: 1.69 Item: Mountain Plumbing 95...\u001b[0m\n",
      "\u001b[92m65: Guess: $6.00 Truth: $43.86 Error: $37.86 SLE: 3.45 Item: GENUINE Speed Queen ...\u001b[0m\n",
      "\u001b[91m66: Guess: $26.34 Truth: $189.99 Error: $163.65 SLE: 3.78 Item: WANAI Compact Refrig...\u001b[0m\n",
      "\u001b[92m67: Guess: $7.20 Truth: $7.99 Error: $0.79 SLE: 0.01 Item: YYJINGYOU 50Pcs Port...\u001b[0m\n",
      "\u001b[93m68: Guess: $12.30 Truth: $84.34 Error: $72.04 SLE: 3.45 Item: Whirlpool Icemaker M...\u001b[0m\n",
      "\u001b[91m69: Guess: $284.00 Truth: $799.99 Error: $515.99 SLE: 1.07 Item: Kucht Under Cabinet ...\u001b[0m\n",
      "\u001b[92m70: Guess: $12.28 Truth: $7.59 Error: $4.69 SLE: 0.19 Item: Replacement Vent Lig...\u001b[0m\n",
      "\u001b[93m71: Guess: $15.25 Truth: $56.00 Error: $40.75 SLE: 1.57 Item: GLOB PRO SOLUTIONS M...\u001b[0m\n",
      "\u001b[92m72: Guess: $10.62 Truth: $28.90 Error: $18.27 SLE: 0.89 Item: Enterpark Motor Pump...\u001b[0m\n",
      "\u001b[92m73: Guess: $12.14 Truth: $9.88 Error: $2.26 SLE: 0.04 Item: Washing Machine Hub ...\u001b[0m\n",
      "\u001b[92m74: Guess: $14.77 Truth: $42.99 Error: $28.22 SLE: 1.05 Item: Flame Sensor Furnace...\u001b[0m\n",
      "\u001b[91m75: Guess: $285.50 Truth: $189.98 Error: $95.52 SLE: 0.16 Item: Range Hood 30 Inch, ...\u001b[0m\n",
      "\u001b[92m76: Guess: $14.58 Truth: $22.98 Error: $8.40 SLE: 0.19 Item: SHEAWA Refrigerator ...\u001b[0m\n",
      "\u001b[92m77: Guess: $12.25 Truth: $24.99 Error: $12.74 SLE: 0.45 Item: 2-Pack Replacement f...\u001b[0m\n",
      "\u001b[92m78: Guess: $9.05 Truth: $34.99 Error: $25.94 SLE: 1.63 Item: Winter Magnetic Dish...\u001b[0m\n",
      "\u001b[91m79: Guess: $39.72 Truth: $319.99 Error: $280.27 SLE: 4.26 Item: Countertop Dishwashe...\u001b[0m\n",
      "\u001b[92m80: Guess: $33.41 Truth: $55.99 Error: $22.58 SLE: 0.25 Item: Propane Gas Cooktop ...\u001b[0m\n",
      "\u001b[92m81: Guess: $19.94 Truth: $46.86 Error: $26.92 SLE: 0.68 Item: GE Bake Element For ...\u001b[0m\n",
      "\u001b[91m82: Guess: $32.38 Truth: $299.99 Error: $267.62 SLE: 4.84 Item: Kndko Nugget Ice Mak...\u001b[0m\n",
      "\u001b[92m83: Guess: $12.29 Truth: $25.64 Error: $13.35 SLE: 0.48 Item: Franke Disposal Air ...\u001b[0m\n",
      "\u001b[92m84: Guess: $12.45 Truth: $17.99 Error: $5.54 SLE: 0.12 Item: Wok Ring, 6.3 Inch C...\u001b[0m\n",
      "\u001b[92m85: Guess: $12.13 Truth: $34.75 Error: $22.62 SLE: 1.00 Item: AZH Range Oven Ignit...\u001b[0m\n",
      "\u001b[92m86: Guess: $12.27 Truth: $10.98 Error: $1.29 SLE: 0.01 Item: ZC GEL Anti Vibratio...\u001b[0m\n",
      "\u001b[92m87: Guess: $12.14 Truth: $21.99 Error: $9.85 SLE: 0.31 Item: Egg Cartons 50 Pack,...\u001b[0m\n",
      "\u001b[92m88: Guess: $14.81 Truth: $15.99 Error: $1.18 SLE: 0.01 Item: Replacement for Whir...\u001b[0m\n",
      "\u001b[91m89: Guess: $28.00 Truth: $249.10 Error: $221.10 SLE: 4.64 Item: GE Genuine OEM Ice B...\u001b[0m\n",
      "\u001b[92m90: Guess: $16.91 Truth: $56.87 Error: $39.96 SLE: 1.38 Item: Compatible with GE M...\u001b[0m\n",
      "\u001b[92m91: Guess: $8.71 Truth: $35.00 Error: $26.29 SLE: 1.72 Item: General Electric Dra...\u001b[0m\n",
      "\u001b[92m92: Guess: $14.95 Truth: $35.98 Error: $21.03 SLE: 0.71 Item: Whole Parts Refriger...\u001b[0m\n",
      "\u001b[92m93: Guess: $19.89 Truth: $14.99 Error: $4.90 SLE: 0.07 Item: Cenipar Burner Drip ...\u001b[0m\n",
      "\u001b[91m94: Guess: $147.75 Truth: $329.99 Error: $182.24 SLE: 0.64 Item: COSMO QB90 36 in. Un...\u001b[0m\n",
      "\u001b[92m95: Guess: $15.12 Truth: $6.49 Error: $8.63 SLE: 0.59 Item: Adjuster Positioner ...\u001b[0m\n",
      "\u001b[92m96: Guess: $9.60 Truth: $14.55 Error: $4.95 SLE: 0.15 Item: BrassCraft Stainless...\u001b[0m\n",
      "\u001b[92m97: Guess: $9.46 Truth: $15.99 Error: $6.53 SLE: 0.24 Item: JASGOOD Christmas Re...\u001b[0m\n",
      "\u001b[92m98: Guess: $15.23 Truth: $15.99 Error: $0.76 SLE: 0.00 Item: Refrigerator Evapora...\u001b[0m\n",
      "\u001b[92m99: Guess: $12.10 Truth: $42.99 Error: $30.89 SLE: 1.47 Item: 2 Pack 1043 Humidifi...\u001b[0m\n",
      "\u001b[92m100: Guess: $12.48 Truth: $32.99 Error: $20.51 SLE: 0.86 Item: & Dryer Heating Elem...\u001b[0m\n",
      "\u001b[93m101: Guess: $29.94 Truth: $109.59 Error: $79.65 SLE: 1.62 Item: Sub-Zero Replacement...\u001b[0m\n",
      "\u001b[93m102: Guess: $17.88 Truth: $60.48 Error: $42.60 SLE: 1.39 Item: Swift Green Filters ...\u001b[0m\n",
      "\u001b[92m103: Guess: $19.73 Truth: $22.99 Error: $3.26 SLE: 0.02 Item: Electrolux Condenser...\u001b[0m\n",
      "\u001b[92m104: Guess: $12.38 Truth: $8.99 Error: $3.38 SLE: 0.09 Item: NISPIRA Charcoal Wat...\u001b[0m\n",
      "\u001b[91m105: Guess: $26.61 Truth: $209.99 Error: $183.38 SLE: 4.14 Item: hOmeLabs Mini Fridge...\u001b[0m\n",
      "\u001b[93m106: Guess: $15.58 Truth: $84.28 Error: $68.70 SLE: 2.68 Item: Frigidaire Frigidare...\u001b[0m\n",
      "\u001b[91m107: Guess: $47.56 Truth: $299.99 Error: $252.43 SLE: 3.33 Item: VEVOR Drop in Ice Ch...\u001b[0m\n",
      "\u001b[92m108: Guess: $12.53 Truth: $7.22 Error: $5.31 SLE: 0.25 Item: 383727 WASHER TUB SE...\u001b[0m\n",
      "\u001b[92m109: Guess: $12.23 Truth: $7.97 Error: $4.26 SLE: 0.15 Item: Cosmos 1 Pair Neopre...\u001b[0m\n",
      "\u001b[92m110: Guess: $25.03 Truth: $28.99 Error: $3.96 SLE: 0.02 Item: Supplying Demand Ref...\u001b[0m\n",
      "\u001b[91m111: Guess: $12.24 Truth: $135.98 Error: $123.74 SLE: 5.46 Item: LG Electronics Elect...\u001b[0m\n",
      "\u001b[92m112: Guess: $12.21 Truth: $40.02 Error: $27.81 SLE: 1.28 Item: Imperial 33883 Icv/I...\u001b[0m\n",
      "\u001b[92m113: Guess: $32.81 Truth: $33.99 Error: $1.18 SLE: 0.00 Item: amadao Portable Mini...\u001b[0m\n",
      "\u001b[92m114: Guess: $12.27 Truth: $48.70 Error: $36.43 SLE: 1.74 Item: Upper Refrigerator G...\u001b[0m\n",
      "\u001b[92m115: Guess: $12.39 Truth: $20.99 Error: $8.60 SLE: 0.25 Item: 3-Pack PureAir AF-2 ...\u001b[0m\n",
      "\u001b[91m116: Guess: $94.94 Truth: $899.00 Error: $804.06 SLE: 5.01 Item: Fisher Paykel 24 Dra...\u001b[0m\n",
      "\u001b[92m117: Guess: $12.16 Truth: $12.99 Error: $0.83 SLE: 0.00 Item: Ansoon Washer Water ...\u001b[0m\n",
      "\u001b[92m118: Guess: $12.25 Truth: $27.57 Error: $15.32 SLE: 0.59 Item: UPGRADED Lifetime Ap...\u001b[0m\n",
      "\u001b[92m119: Guess: $12.17 Truth: $7.99 Error: $4.18 SLE: 0.15 Item: Repairwares 3/4 Inch...\u001b[0m\n",
      "\u001b[92m120: Guess: $5.03 Truth: $6.99 Error: $1.96 SLE: 0.08 Item: VOSAREA Timer Knob D...\u001b[0m\n",
      "\u001b[93m121: Guess: $21.22 Truth: $71.48 Error: $50.26 SLE: 1.40 Item: Whirlpool\n",
      "Product De...\u001b[0m\n",
      "\u001b[92m122: Guess: $19.91 Truth: $49.95 Error: $30.04 SLE: 0.79 Item: Cuisinart Ice Cream ...\u001b[0m\n",
      "\u001b[92m123: Guess: $12.27 Truth: $15.39 Error: $3.12 SLE: 0.04 Item: GENUINE Frigidaire W...\u001b[0m\n",
      "\u001b[93m124: Guess: $14.83 Truth: $80.99 Error: $66.16 SLE: 2.71 Item: OEM Refrigerator Doo...\u001b[0m\n",
      "\u001b[92m125: Guess: $12.23 Truth: $20.00 Error: $7.77 SLE: 0.21 Item: Haier HAIER REFRIGER...\u001b[0m\n",
      "\u001b[93m126: Guess: $12.34 Truth: $60.14 Error: $47.80 SLE: 2.32 Item: Filter Express Optip...\u001b[0m\n",
      "\u001b[92m127: Guess: $12.19 Truth: $10.98 Error: $1.21 SLE: 0.01 Item: RoseFlower Outdoor P...\u001b[0m\n",
      "\u001b[92m128: Guess: $14.97 Truth: $29.90 Error: $14.93 SLE: 0.44 Item: Dishwasher Door Latc...\u001b[0m\n",
      "\u001b[92m129: Guess: $12.48 Truth: $10.99 Error: $1.49 SLE: 0.01 Item: Washing Machine Pump...\u001b[0m\n",
      "\u001b[92m130: Guess: $9.46 Truth: $15.99 Error: $6.53 SLE: 0.24 Item: LazyMe Easter Basket...\u001b[0m\n",
      "\u001b[92m131: Guess: $8.03 Truth: $17.99 Error: $9.96 SLE: 0.55 Item: OUGAR8 Refrigerator ...\u001b[0m\n",
      "\u001b[92m132: Guess: $22.41 Truth: $54.95 Error: $32.54 SLE: 0.76 Item: AIRTEVA 19 1/2 x 23 ...\u001b[0m\n",
      "\u001b[92m133: Guess: $17.97 Truth: $39.99 Error: $22.02 SLE: 0.59 Item: Brio 6022A Refrigera...\u001b[0m\n",
      "\u001b[91m134: Guess: $14.80 Truth: $99.14 Error: $84.34 SLE: 3.41 Item: Gp Fits U-Line Refri...\u001b[0m\n",
      "\u001b[92m135: Guess: $14.98 Truth: $29.99 Error: $15.01 SLE: 0.44 Item: laffeya Electric Sto...\u001b[0m\n",
      "\u001b[92m136: Guess: $12.28 Truth: $26.43 Error: $14.15 SLE: 0.53 Item: Whirlpool Wash Impel...\u001b[0m\n",
      "\u001b[92m137: Guess: $15.24 Truth: $19.99 Error: $4.75 SLE: 0.07 Item: Front Load Washer Tu...\u001b[0m\n",
      "\u001b[93m138: Guess: $29.91 Truth: $99.99 Error: $70.08 SLE: 1.40 Item: Supplying Demand Ref...\u001b[0m\n",
      "\u001b[92m139: Guess: $20.09 Truth: $15.99 Error: $4.10 SLE: 0.05 Item: AMI PARTS Universal ...\u001b[0m\n",
      "\u001b[92m140: Guess: $12.31 Truth: $19.90 Error: $7.59 SLE: 0.20 Item: Dryer Lint Filter Co...\u001b[0m\n",
      "\u001b[92m141: Guess: $12.17 Truth: $15.99 Error: $3.82 SLE: 0.06 Item: Mosoan Christmas Ref...\u001b[0m\n",
      "\u001b[92m142: Guess: $15.23 Truth: $30.89 Error: $15.66 SLE: 0.46 Item: Refrigerator Evapora...\u001b[0m\n",
      "\u001b[93m143: Guess: $10.36 Truth: $86.33 Error: $75.97 SLE: 4.16 Item: Frigidaire Range/Sto...\u001b[0m\n",
      "\u001b[92m144: Guess: $24.84 Truth: $49.99 Error: $25.15 SLE: 0.46 Item: Vastarry Portable Co...\u001b[0m\n",
      "\u001b[92m145: Guess: $12.26 Truth: $11.87 Error: $0.39 SLE: 0.00 Item: Thermal Fuse Dryer R...\u001b[0m\n",
      "\u001b[92m146: Guess: $12.39 Truth: $19.98 Error: $7.59 SLE: 0.20 Item: Universal Dishwasher...\u001b[0m\n",
      "\u001b[93m147: Guess: $12.36 Truth: $88.99 Error: $76.63 SLE: 3.64 Item: ASODOMO for KitchenA...\u001b[0m\n",
      "\u001b[92m148: Guess: $7.19 Truth: $6.20 Error: $0.99 SLE: 0.02 Item: Dryer Thermistor Rep...\u001b[0m\n",
      "\u001b[92m149: Guess: $15.00 Truth: $19.99 Error: $4.99 SLE: 0.07 Item: UKNESFROD Humidifier...\u001b[0m\n",
      "\u001b[92m150: Guess: $12.47 Truth: $42.99 Error: $30.52 SLE: 1.40 Item: Cinch Lux Dryer Duct...\u001b[0m\n",
      "\u001b[92m151: Guess: $15.34 Truth: $10.60 Error: $4.74 SLE: 0.12 Item: Refrigerator LED Lig...\u001b[0m\n",
      "\u001b[92m152: Guess: $12.25 Truth: $16.97 Error: $4.72 SLE: 0.09 Item: Canamax Premium Dish...\u001b[0m\n",
      "\u001b[92m153: Guess: $5.00 Truth: $14.57 Error: $9.57 SLE: 0.91 Item: Whirlpool Control Kn...\u001b[0m\n",
      "\u001b[92m154: Guess: $14.83 Truth: $9.57 Error: $5.26 SLE: 0.16 Item: Ultra Durable Washer...\u001b[0m\n",
      "\u001b[93m155: Guess: $147.62 Truth: $242.99 Error: $95.37 SLE: 0.25 Item: Hauslane | Chef Seri...\u001b[0m\n",
      "\u001b[92m156: Guess: $12.39 Truth: $16.15 Error: $3.76 SLE: 0.06 Item: Supco ES682 Washer L...\u001b[0m\n",
      "\u001b[92m157: Guess: $12.34 Truth: $13.99 Error: $1.65 SLE: 0.01 Item: Water Actuator for F...\u001b[0m\n",
      "\u001b[93m158: Guess: $12.34 Truth: $69.51 Error: $57.17 SLE: 2.77 Item: General Electric Dis...\u001b[0m\n",
      "\u001b[92m159: Guess: $12.34 Truth: $19.85 Error: $7.51 SLE: 0.20 Item: Southbend Range Cont...\u001b[0m\n",
      "\u001b[92m160: Guess: $7.13 Truth: $7.99 Error: $0.86 SLE: 0.01 Item: Dryer Thermostat & D...\u001b[0m\n",
      "\u001b[92m161: Guess: $15.08 Truth: $16.99 Error: $1.91 SLE: 0.01 Item: ICEPURE Refrigerator...\u001b[0m\n",
      "\u001b[91m162: Guess: $12.23 Truth: $210.46 Error: $198.23 SLE: 7.68 Item: Frigidaire Evaporato...\u001b[0m\n",
      "\u001b[92m163: Guess: $26.61 Truth: $25.18 Error: $1.43 SLE: 0.00 Item: Stacking Kit KSTK1 W...\u001b[0m\n",
      "\u001b[93m164: Guess: $39.72 Truth: $87.99 Error: $48.27 SLE: 0.61 Item: Clothes Dryer 110V E...\u001b[0m\n",
      "\u001b[92m165: Guess: $12.05 Truth: $3.99 Error: $8.06 SLE: 0.92 Item: New Plastic Spray Bo...\u001b[0m\n",
      "\u001b[91m166: Guess: $24.42 Truth: $168.17 Error: $143.75 SLE: 3.59 Item: 2.7 cubic foot compa...\u001b[0m\n",
      "\u001b[92m167: Guess: $21.50 Truth: $35.21 Error: $13.71 SLE: 0.23 Item: SharkBite 26038 1/2 ...\u001b[0m\n",
      "\u001b[92m168: Guess: $12.19 Truth: $15.99 Error: $3.80 SLE: 0.06 Item: LZJIQNZE Egg Holder ...\u001b[0m\n",
      "\u001b[92m169: Guess: $15.28 Truth: $35.99 Error: $20.71 SLE: 0.67 Item: 4-Pack Replacement f...\u001b[0m\n",
      "\u001b[92m170: Guess: $15.17 Truth: $42.99 Error: $27.82 SLE: 1.00 Item: Integra Boost RH 62%...\u001b[0m\n",
      "\u001b[91m171: Guess: $15.60 Truth: $98.86 Error: $83.26 SLE: 3.22 Item: LG Electronics Refri...\u001b[0m\n",
      "\u001b[92m172: Guess: $12.31 Truth: $7.99 Error: $4.32 SLE: 0.15 Item: Dryer Idler Pulley R...\u001b[0m\n",
      "\u001b[92m173: Guess: $7.11 Truth: $5.99 Error: $1.12 SLE: 0.02 Item: 2 Packs French Press...\u001b[0m\n",
      "\u001b[92m174: Guess: $25.11 Truth: $23.89 Error: $1.22 SLE: 0.00 Item: Artilife Multi-Funct...\u001b[0m\n",
      "\u001b[91m175: Guess: $12.19 Truth: $97.38 Error: $85.19 SLE: 4.04 Item: Whirlpool Motor, Whi...\u001b[0m\n",
      "\u001b[92m176: Guess: $24.50 Truth: $17.79 Error: $6.71 SLE: 0.09 Item: iSpring ICEK3 3/8 Tu...\u001b[0m\n",
      "\u001b[92m177: Guess: $17.97 Truth: $33.99 Error: $16.02 SLE: 0.37 Item: EXCELPURE Replacemen...\u001b[0m\n",
      "\u001b[91m178: Guess: $14.99 Truth: $177.95 Error: $162.96 SLE: 5.83 Item: LG Refrigerator Elec...\u001b[0m\n",
      "\u001b[93m179: Guess: $12.37 Truth: $59.06 Error: $46.69 SLE: 2.26 Item: Whirlpool OEM Range ...\u001b[0m\n",
      "\u001b[92m180: Guess: $19.80 Truth: $16.99 Error: $2.81 SLE: 0.02 Item: Beaquicy TDIDVKZW In...\u001b[0m\n",
      "\u001b[93m181: Guess: $9.38 Truth: $57.44 Error: $48.06 SLE: 2.99 Item: Frigidaire 3 Door Ha...\u001b[0m\n",
      "\u001b[92m182: Guess: $12.25 Truth: $14.99 Error: $2.74 SLE: 0.04 Item: MG Coffee 3 PACK Reu...\u001b[0m\n",
      "\u001b[92m183: Guess: $12.30 Truth: $11.75 Error: $0.55 SLE: 0.00 Item: GE Dishwasher Door L...\u001b[0m\n",
      "\u001b[92m184: Guess: $12.28 Truth: $13.99 Error: $1.71 SLE: 0.01 Item: Mist Water Filter Re...\u001b[0m\n",
      "\u001b[92m185: Guess: $9.41 Truth: $37.45 Error: $28.04 SLE: 1.71 Item: PASSE Black Tile Flo...\u001b[0m\n",
      "\u001b[92m186: Guess: $14.61 Truth: $49.99 Error: $35.38 SLE: 1.40 Item: Repairwares Refriger...\u001b[0m\n",
      "\u001b[93m187: Guess: $12.34 Truth: $71.87 Error: $59.53 SLE: 2.88 Item: GE Refrigerator Door...\u001b[0m\n",
      "\u001b[92m188: Guess: $12.33 Truth: $7.99 Error: $4.34 SLE: 0.16 Item: Stainless Steel Bell...\u001b[0m\n",
      "\u001b[92m189: Guess: $12.30 Truth: $28.34 Error: $16.04 SLE: 0.63 Item: Filter Everything Re...\u001b[0m\n",
      "\u001b[91m190: Guess: $32.50 Truth: $289.99 Error: $257.49 SLE: 4.67 Item: Bonnlo 13 lbs Portab...\u001b[0m\n",
      "\u001b[92m191: Guess: $12.12 Truth: $5.89 Error: $6.24 SLE: 0.42 Item: PANSHA Door Knob Cov...\u001b[0m\n",
      "\u001b[92m192: Guess: $24.94 Truth: $7.26 Error: $17.68 SLE: 1.31 Item: TraveT Digital Camer...\u001b[0m\n",
      "\u001b[92m193: Guess: $10.41 Truth: $14.99 Error: $4.58 SLE: 0.11 Item: ZAWAGIIK Refrigerato...\u001b[0m\n",
      "\u001b[92m194: Guess: $12.38 Truth: $21.99 Error: $9.61 SLE: 0.29 Item: 2-Pack Replacement f...\u001b[0m\n",
      "\u001b[91m195: Guess: $15.12 Truth: $125.14 Error: $110.02 SLE: 4.23 Item: Global Solutions Glo...\u001b[0m\n",
      "\u001b[92m196: Guess: $12.37 Truth: $29.99 Error: $17.62 SLE: 0.71 Item: Refrigmatic Electron...\u001b[0m\n",
      "\u001b[92m197: Guess: $12.38 Truth: $7.98 Error: $4.39 SLE: 0.16 Item: 341241 Dryer Drum Be...\u001b[0m\n",
      "\u001b[92m198: Guess: $70.19 Truth: $59.95 Error: $10.24 SLE: 0.02 Item: Spark Module (2+1) 1...\u001b[0m\n",
      "\u001b[92m199: Guess: $12.22 Truth: $9.47 Error: $2.75 SLE: 0.05 Item: Washer Door Lid Swit...\u001b[0m\n",
      "\u001b[91m200: Guess: $26.64 Truth: $129.99 Error: $103.35 SLE: 2.42 Item: Compact Refrigerator...\u001b[0m\n",
      "\u001b[92m201: Guess: $12.35 Truth: $22.99 Error: $10.64 SLE: 0.34 Item: Washer Door Latch Sw...\u001b[0m\n",
      "\u001b[92m202: Guess: $4.99 Truth: $37.42 Error: $32.43 SLE: 3.45 Item: Frigidaire Frigidare...\u001b[0m\n",
      "\u001b[92m203: Guess: $7.13 Truth: $35.50 Error: $28.37 SLE: 2.26 Item: TRUE 810854 Black Ga...\u001b[0m\n",
      "\u001b[92m204: Guess: $14.95 Truth: $39.99 Error: $25.04 SLE: 0.89 Item: Refrigerator Control...\u001b[0m\n",
      "\u001b[92m205: Guess: $17.88 Truth: $29.99 Error: $12.11 SLE: 0.25 Item: ICEPURE PLUS NSF53 C...\u001b[0m\n",
      "\u001b[92m206: Guess: $19.88 Truth: $28.99 Error: $9.11 SLE: 0.13 Item: Supplying Demand Clo...\u001b[0m\n",
      "\u001b[91m207: Guess: $14.95 Truth: $380.12 Error: $365.17 SLE: 10.07 Item: Scotsman Pump Water\n",
      "...\u001b[0m\n",
      "\u001b[92m208: Guess: $4.99 Truth: $20.00 Error: $15.01 SLE: 1.57 Item: Whirlpool 482338 Adh...\u001b[0m\n",
      "\u001b[92m209: Guess: $12.15 Truth: $16.99 Error: $4.84 SLE: 0.10 Item: 2-Pack Refrigerator ...\u001b[0m\n",
      "\u001b[92m210: Guess: $12.29 Truth: $15.50 Error: $3.21 SLE: 0.05 Item: Whole Parts Applianc...\u001b[0m\n",
      "\u001b[92m211: Guess: $12.08 Truth: $9.99 Error: $2.09 SLE: 0.03 Item: Dryer Lint Filter Re...\u001b[0m\n",
      "\u001b[92m212: Guess: $20.00 Truth: $10.99 Error: $9.01 SLE: 0.31 Item: Supplying Demand Clo...\u001b[0m\n",
      "\u001b[92m213: Guess: $7.20 Truth: $6.68 Error: $0.52 SLE: 0.00 Item: Refrigerator Door Li...\u001b[0m\n",
      "\u001b[92m214: Guess: $19.97 Truth: $7.91 Error: $12.06 SLE: 0.73 Item: HQRP Filter Kit comp...\u001b[0m\n",
      "\u001b[92m215: Guess: $9.41 Truth: $33.20 Error: $23.79 SLE: 1.41 Item: GENUINE Alliance Lau...\u001b[0m\n",
      "\u001b[92m216: Guess: $12.17 Truth: $5.99 Error: $6.18 SLE: 0.40 Item: Replacement Light Bu...\u001b[0m\n",
      "\u001b[92m217: Guess: $14.73 Truth: $53.99 Error: $39.26 SLE: 1.57 Item: Refrigerator Control...\u001b[0m\n",
      "\u001b[91m218: Guess: $25.22 Truth: $149.95 Error: $124.73 SLE: 3.06 Item: NEW Control Board Mo...\u001b[0m\n",
      "\u001b[92m219: Guess: $7.33 Truth: $28.59 Error: $21.26 SLE: 1.61 Item: GE Refrigerator Door...\u001b[0m\n",
      "\u001b[92m220: Guess: $12.52 Truth: $17.25 Error: $4.73 SLE: 0.09 Item: Dishwasher Upper Dis...\u001b[0m\n",
      "\u001b[92m221: Guess: $12.30 Truth: $39.99 Error: $27.69 SLE: 1.27 Item: AMI PARTS Universal ...\u001b[0m\n",
      "\u001b[92m222: Guess: $19.97 Truth: $34.94 Error: $14.97 SLE: 0.29 Item: Evaporator Fan Motor...\u001b[0m\n",
      "\u001b[92m223: Guess: $12.28 Truth: $7.99 Error: $4.29 SLE: 0.15 Item: 312959 Dryer Belt Re...\u001b[0m\n",
      "\u001b[91m224: Guess: $200.00 Truth: $399.00 Error: $199.00 SLE: 0.47 Item: EKON 900CFM Range Ho...\u001b[0m\n",
      "\u001b[92m225: Guess: $15.50 Truth: $16.48 Error: $0.98 SLE: 0.00 Item: EvertechPRO 57000 6f...\u001b[0m\n",
      "\u001b[93m226: Guess: $39.12 Truth: $95.00 Error: $55.88 SLE: 0.76 Item: Compatible Ice Maker...\u001b[0m\n",
      "\u001b[92m227: Guess: $18.25 Truth: $25.65 Error: $7.40 SLE: 0.11 Item: Edgewater Parts Evap...\u001b[0m\n",
      "\u001b[92m228: Guess: $12.36 Truth: $9.91 Error: $2.45 SLE: 0.04 Item: HQRP Water Filter Co...\u001b[0m\n",
      "\u001b[91m229: Guess: $11.84 Truth: $164.68 Error: $152.84 SLE: 6.54 Item: Apw Wyott Burner Cha...\u001b[0m\n",
      "\u001b[92m230: Guess: $12.39 Truth: $20.99 Error: $8.60 SLE: 0.25 Item: Refrigerator Door Sh...\u001b[0m\n",
      "\u001b[93m231: Guess: $21.12 Truth: $87.15 Error: $66.03 SLE: 1.91 Item: GE Appliances Genuin...\u001b[0m\n",
      "\u001b[92m232: Guess: $12.42 Truth: $15.47 Error: $3.05 SLE: 0.04 Item: Cenipar Universal Di...\u001b[0m\n",
      "\u001b[92m233: Guess: $12.02 Truth: $49.99 Error: $37.97 SLE: 1.86 Item: XNGJEMVWXO Dishwashe...\u001b[0m\n",
      "\u001b[91m234: Guess: $36.84 Truth: $324.99 Error: $288.15 SLE: 4.64 Item: Captive Aire Make Up...\u001b[0m\n",
      "\u001b[92m235: Guess: $12.39 Truth: $40.84 Error: $28.45 SLE: 1.30 Item: CH3301 Broil Element...\u001b[0m\n",
      "\u001b[92m236: Guess: $10.38 Truth: $16.99 Error: $6.61 SLE: 0.21 Item: SILKYNICE Refrigerat...\u001b[0m\n",
      "\u001b[92m237: Guess: $14.78 Truth: $42.98 Error: $28.20 SLE: 1.05 Item: Whole Parts Washer W...\u001b[0m\n",
      "\u001b[92m238: Guess: $12.32 Truth: $22.99 Error: $10.67 SLE: 0.35 Item: Refrigerator Door Bi...\u001b[0m\n",
      "\u001b[92m239: Guess: $12.19 Truth: $15.97 Error: $3.78 SLE: 0.06 Item: Nut Milk Bags for St...\u001b[0m\n",
      "\u001b[92m240: Guess: $12.11 Truth: $12.98 Error: $0.87 SLE: 0.00 Item: spartshome iRomehony...\u001b[0m\n",
      "\u001b[92m241: Guess: $15.59 Truth: $24.27 Error: $8.68 SLE: 0.18 Item: General Electric Ran...\u001b[0m\n",
      "\u001b[92m242: Guess: $12.35 Truth: $15.99 Error: $3.64 SLE: 0.06 Item: Evaporator Fan Motor...\u001b[0m\n",
      "\u001b[92m243: Guess: $19.86 Truth: $19.14 Error: $0.72 SLE: 0.00 Item: ORIGINAL Washer Door...\u001b[0m\n",
      "\u001b[92m244: Guess: $4.95 Truth: $7.92 Error: $2.97 SLE: 0.16 Item: RANGE KLEEN R6-GE Ch...\u001b[0m\n",
      "\u001b[92m245: Guess: $5.05 Truth: $10.99 Error: $5.94 SLE: 0.47 Item: Carbon Range Hood Fi...\u001b[0m\n",
      "\u001b[92m246: Guess: $9.05 Truth: $9.99 Error: $0.94 SLE: 0.01 Item: Coffee milk can Capp...\u001b[0m\n",
      "\u001b[91m247: Guess: $12.35 Truth: $165.30 Error: $152.95 SLE: 6.36 Item: Norcold Refrigerator...\u001b[0m\n",
      "\u001b[92m248: Guess: $14.55 Truth: $6.99 Error: $7.56 SLE: 0.44 Item: Drawer Latch Replace...\u001b[0m\n",
      "\u001b[91m249: Guess: $142.75 Truth: $505.10 Error: $362.35 SLE: 1.58 Item: KOBE Range Hoods Ins...\u001b[0m\n",
      "\u001b[92m250: Guess: $12.11 Truth: $12.69 Error: $0.58 SLE: 0.00 Item: Appli Parts Washer L...\u001b[0m\n"
     ]
    },
    {
     "data": {
      "image/png": "[encoded data removed]",
      "text/plain": [
       "<Figure size 1200x800 with 1 Axes>"
      ]
     },
     "metadata": {},
     "output_type": "display_data"
    }
   ],
   "source": [
    "Tester.test(improved_model_predict, test)"
   ]
  },
  {
   "cell_type": "code",
   "execution_count": null,
   "id": "c0bbe1d1-ae6b-4881-b01d-9c4762ff3790",
   "metadata": {},
   "outputs": [],
   "source": []
  }
 ],
 "metadata": {
  "kernelspec": {
   "display_name": "Python 3 (ipykernel)",
   "language": "python",
   "name": "python3"
  },
  "language_info": {
   "codemirror_mode": {
    "name": "ipython",
    "version": 3
   },
   "file_extension": ".py",
   "mimetype": "text/x-python",
   "name": "python",
   "nbconvert_exporter": "python",
   "pygments_lexer": "ipython3",
   "version": "3.10.12"
  }
 },
 "nbformat": 4,
 "nbformat_minor": 5
}
